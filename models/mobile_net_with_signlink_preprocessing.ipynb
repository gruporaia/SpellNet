{
 "cells": [
  {
   "cell_type": "code",
   "execution_count": 1,
   "id": "c5dcdef3",
   "metadata": {},
   "outputs": [],
   "source": [
    "import tensorflow as tf\n",
    "from tensorflow.keras import layers, models\n",
    "from tensorflow.keras.applications import EfficientNetB0\n",
    "from tensorflow.keras.preprocessing import image_dataset_from_directory\n",
    "import glob\n",
    "import pandas as pd\n",
    "import os\n",
    "import shutil\n",
    "import numpy as np\n",
    "\n",
    "import matplotlib.pyplot as plt"
   ]
  },
  {
   "cell_type": "code",
   "execution_count": null,
   "id": "f2b7063a",
   "metadata": {},
   "outputs": [
    {
     "ename": "ValueError",
     "evalue": "Sample larger than population or is negative",
     "output_type": "error",
     "traceback": [
      "\u001b[1;31m---------------------------------------------------------------------------\u001b[0m",
      "\u001b[1;31mValueError\u001b[0m                                Traceback (most recent call last)",
      "Cell \u001b[1;32mIn[11], line 2\u001b[0m\n\u001b[0;32m      1\u001b[0m \u001b[38;5;28;01mimport\u001b[39;00m \u001b[38;5;21;01mrandom\u001b[39;00m\n\u001b[1;32m----> 2\u001b[0m \u001b[43mrandom\u001b[49m\u001b[38;5;241;43m.\u001b[39;49m\u001b[43msample\u001b[49m\u001b[43m(\u001b[49m\u001b[43mlabels\u001b[49m\u001b[43m,\u001b[49m\u001b[43m \u001b[49m\u001b[43mMAX_FILES_PER_LETTER\u001b[49m\u001b[43m)\u001b[49m\n",
      "File \u001b[1;32mc:\\Users\\Bernardo\\anaconda3\\envs\\raia_signlink\\lib\\random.py:449\u001b[0m, in \u001b[0;36mRandom.sample\u001b[1;34m(self, population, k, counts)\u001b[0m\n\u001b[0;32m    447\u001b[0m randbelow \u001b[38;5;241m=\u001b[39m \u001b[38;5;28mself\u001b[39m\u001b[38;5;241m.\u001b[39m_randbelow\n\u001b[0;32m    448\u001b[0m \u001b[38;5;28;01mif\u001b[39;00m \u001b[38;5;129;01mnot\u001b[39;00m \u001b[38;5;241m0\u001b[39m \u001b[38;5;241m<\u001b[39m\u001b[38;5;241m=\u001b[39m k \u001b[38;5;241m<\u001b[39m\u001b[38;5;241m=\u001b[39m n:\n\u001b[1;32m--> 449\u001b[0m     \u001b[38;5;28;01mraise\u001b[39;00m \u001b[38;5;167;01mValueError\u001b[39;00m(\u001b[38;5;124m\"\u001b[39m\u001b[38;5;124mSample larger than population or is negative\u001b[39m\u001b[38;5;124m\"\u001b[39m)\n\u001b[0;32m    450\u001b[0m result \u001b[38;5;241m=\u001b[39m [\u001b[38;5;28;01mNone\u001b[39;00m] \u001b[38;5;241m*\u001b[39m k\n\u001b[0;32m    451\u001b[0m setsize \u001b[38;5;241m=\u001b[39m \u001b[38;5;241m21\u001b[39m        \u001b[38;5;66;03m# size of a small set minus size of an empty list\u001b[39;00m\n",
      "\u001b[1;31mValueError\u001b[0m: Sample larger than population or is negative"
     ]
    }
   ],
   "source": []
  },
  {
   "cell_type": "code",
   "execution_count": 13,
   "id": "dae7f657",
   "metadata": {},
   "outputs": [
    {
     "name": "stdout",
     "output_type": "stream",
     "text": [
      "A 100\n",
      "B 100\n",
      "C 100\n",
      "D 100\n",
      "E 100\n",
      "F 100\n",
      "G 100\n",
      "H 100\n",
      "I 100\n",
      "J 0\n",
      "K 100\n",
      "L 100\n",
      "M 100\n",
      "N 100\n",
      "O 100\n",
      "P 100\n",
      "Q 100\n",
      "R 100\n",
      "S 100\n",
      "T 100\n",
      "U 100\n",
      "V 100\n",
      "W 100\n",
      "X 100\n",
      "Y 100\n",
      "Z 0\n"
     ]
    }
   ],
   "source": [
    "from collections import defaultdict\n",
    "import random \n",
    "\n",
    "\n",
    "labels = ['A', 'B', 'C', 'D', 'E', 'F', 'G', 'H', 'I', 'J', 'K', 'L', 'M', 'N', 'O', 'P', 'Q', 'R', 'S', 'T', 'U', 'V', 'W', 'X', 'Y', 'Z']\n",
    "dataset = defaultdict(list)\n",
    "TRAIN_PATH = \"preprocessed\"\n",
    "MAX_FILES_PER_LETTER = 100 \n",
    "\n",
    "for label in labels:\n",
    "    label_path = os.path.join(TRAIN_PATH, label, \"*\")\n",
    "    image_files = glob.glob(label_path)\n",
    "    \n",
    "    if not len(image_files) <= MAX_FILES_PER_LETTER:\n",
    "        image_files = random.sample(image_files, MAX_FILES_PER_LETTER)\n",
    "    \n",
    "    sign_label = [label] * len(image_files)\n",
    "    dataset[label].extend(image_files)\n",
    "\n",
    "for label in dataset:\n",
    "    print(label, len(dataset[label]))"
   ]
  },
  {
   "cell_type": "code",
   "execution_count": 14,
   "id": "bb4ae1e2",
   "metadata": {},
   "outputs": [
    {
     "data": {
      "text/html": [
       "<div>\n",
       "<style scoped>\n",
       "    .dataframe tbody tr th:only-of-type {\n",
       "        vertical-align: middle;\n",
       "    }\n",
       "\n",
       "    .dataframe tbody tr th {\n",
       "        vertical-align: top;\n",
       "    }\n",
       "\n",
       "    .dataframe thead th {\n",
       "        text-align: right;\n",
       "    }\n",
       "</style>\n",
       "<table border=\"1\" class=\"dataframe\">\n",
       "  <thead>\n",
       "    <tr style=\"text-align: right;\">\n",
       "      <th></th>\n",
       "      <th>label</th>\n",
       "      <th>image_path</th>\n",
       "    </tr>\n",
       "  </thead>\n",
       "  <tbody>\n",
       "    <tr>\n",
       "      <th>0</th>\n",
       "      <td>A</td>\n",
       "      <td>preprocessed\\A\\sinal_15_frame_15.jpg</td>\n",
       "    </tr>\n",
       "    <tr>\n",
       "      <th>1</th>\n",
       "      <td>A</td>\n",
       "      <td>preprocessed\\A\\sinal_18_frame_14.jpg</td>\n",
       "    </tr>\n",
       "    <tr>\n",
       "      <th>2</th>\n",
       "      <td>A</td>\n",
       "      <td>preprocessed\\A\\sinal_8_frame_4.jpg</td>\n",
       "    </tr>\n",
       "    <tr>\n",
       "      <th>3</th>\n",
       "      <td>A</td>\n",
       "      <td>preprocessed\\A\\sinal_33_frame_3.jpg</td>\n",
       "    </tr>\n",
       "    <tr>\n",
       "      <th>4</th>\n",
       "      <td>A</td>\n",
       "      <td>preprocessed\\A\\sinal_19_frame_18.jpg</td>\n",
       "    </tr>\n",
       "    <tr>\n",
       "      <th>...</th>\n",
       "      <td>...</td>\n",
       "      <td>...</td>\n",
       "    </tr>\n",
       "    <tr>\n",
       "      <th>2395</th>\n",
       "      <td>Y</td>\n",
       "      <td>preprocessed\\Y\\sinal_3_frame_16.jpg</td>\n",
       "    </tr>\n",
       "    <tr>\n",
       "      <th>2396</th>\n",
       "      <td>Y</td>\n",
       "      <td>preprocessed\\Y\\sinal_19_frame_2.jpg</td>\n",
       "    </tr>\n",
       "    <tr>\n",
       "      <th>2397</th>\n",
       "      <td>Y</td>\n",
       "      <td>preprocessed\\Y\\sinal_17_frame_12.jpg</td>\n",
       "    </tr>\n",
       "    <tr>\n",
       "      <th>2398</th>\n",
       "      <td>Y</td>\n",
       "      <td>preprocessed\\Y\\sinal_230_frame_9.jpg</td>\n",
       "    </tr>\n",
       "    <tr>\n",
       "      <th>2399</th>\n",
       "      <td>Y</td>\n",
       "      <td>preprocessed\\Y\\sinal_4_frame_3.jpg</td>\n",
       "    </tr>\n",
       "  </tbody>\n",
       "</table>\n",
       "<p>2400 rows × 2 columns</p>\n",
       "</div>"
      ],
      "text/plain": [
       "     label                            image_path\n",
       "0        A  preprocessed\\A\\sinal_15_frame_15.jpg\n",
       "1        A  preprocessed\\A\\sinal_18_frame_14.jpg\n",
       "2        A    preprocessed\\A\\sinal_8_frame_4.jpg\n",
       "3        A   preprocessed\\A\\sinal_33_frame_3.jpg\n",
       "4        A  preprocessed\\A\\sinal_19_frame_18.jpg\n",
       "...    ...                                   ...\n",
       "2395     Y   preprocessed\\Y\\sinal_3_frame_16.jpg\n",
       "2396     Y   preprocessed\\Y\\sinal_19_frame_2.jpg\n",
       "2397     Y  preprocessed\\Y\\sinal_17_frame_12.jpg\n",
       "2398     Y  preprocessed\\Y\\sinal_230_frame_9.jpg\n",
       "2399     Y    preprocessed\\Y\\sinal_4_frame_3.jpg\n",
       "\n",
       "[2400 rows x 2 columns]"
      ]
     },
     "execution_count": 14,
     "metadata": {},
     "output_type": "execute_result"
    }
   ],
   "source": [
    "dataset_df = {\n",
    "    'label': [],\n",
    "    'image_path': []\n",
    "}\n",
    "for label, image_paths in dataset.items():\n",
    "    dataset_df['label'].extend([label] * len(image_paths))\n",
    "    for image_path in image_paths:\n",
    "        new_path = ''\n",
    "        for path in image_path.split('\\\\'):\n",
    "            new_path = os.path.join(new_path, path)\n",
    "        dataset_df['image_path'].append(new_path)\n",
    "\n",
    "dataset_df = pd.DataFrame(dataset_df)\n",
    "dataset_df"
   ]
  },
  {
   "cell_type": "code",
   "execution_count": 15,
   "id": "bc410d13",
   "metadata": {},
   "outputs": [],
   "source": [
    "from sklearn.model_selection import train_test_split\n",
    "\n",
    "X_train, X_val, y_train, y_val = train_test_split(\n",
    "    dataset_df[\"image_path\"], dataset_df[\"label\"],\n",
    "    test_size=0.3,\n",
    "    random_state=2023,\n",
    "    shuffle=True,\n",
    "    stratify=dataset_df[\"label\"]\n",
    ")\n",
    "\n",
    "# Create Final DataFrames\n",
    "data_train = pd.DataFrame({\n",
    "    \"image_path\": X_train,\n",
    "    \"label\": y_train\n",
    "})\n",
    "\n",
    "data_val = pd.DataFrame({\n",
    "    \"image_path\": X_val,\n",
    "    \"label\": y_val\n",
    "})"
   ]
  },
  {
   "cell_type": "code",
   "execution_count": 16,
   "id": "92452e19",
   "metadata": {},
   "outputs": [],
   "source": [
    "chr_to_int_map = {chr(ord('A') + i): i for i in range(26)}\n",
    "int_to_chr_map = {i: chr(ord('A') + i) for i in range(26)}"
   ]
  },
  {
   "cell_type": "code",
   "execution_count": 17,
   "id": "325631f4",
   "metadata": {},
   "outputs": [],
   "source": [
    "# Apply to your dataframes\n",
    "data_train['label'] = data_train['label'].map(chr_to_int_map)\n",
    "data_val['label'] = data_val['label'].map(chr_to_int_map)"
   ]
  },
  {
   "cell_type": "code",
   "execution_count": 18,
   "id": "59e6c774",
   "metadata": {},
   "outputs": [
    {
     "data": {
      "text/html": [
       "<div>\n",
       "<style scoped>\n",
       "    .dataframe tbody tr th:only-of-type {\n",
       "        vertical-align: middle;\n",
       "    }\n",
       "\n",
       "    .dataframe tbody tr th {\n",
       "        vertical-align: top;\n",
       "    }\n",
       "\n",
       "    .dataframe thead th {\n",
       "        text-align: right;\n",
       "    }\n",
       "</style>\n",
       "<table border=\"1\" class=\"dataframe\">\n",
       "  <thead>\n",
       "    <tr style=\"text-align: right;\">\n",
       "      <th></th>\n",
       "      <th>image_path</th>\n",
       "      <th>label</th>\n",
       "    </tr>\n",
       "  </thead>\n",
       "  <tbody>\n",
       "    <tr>\n",
       "      <th>2146</th>\n",
       "      <td>preprocessed\\W\\sinal_32_frame_2.jpg</td>\n",
       "      <td>22</td>\n",
       "    </tr>\n",
       "    <tr>\n",
       "      <th>1304</th>\n",
       "      <td>preprocessed\\O\\sinal_5_frame_2.jpg</td>\n",
       "      <td>14</td>\n",
       "    </tr>\n",
       "    <tr>\n",
       "      <th>1530</th>\n",
       "      <td>preprocessed\\Q\\sinal_6_frame_16.jpg</td>\n",
       "      <td>16</td>\n",
       "    </tr>\n",
       "    <tr>\n",
       "      <th>762</th>\n",
       "      <td>preprocessed\\H\\sinal_31_frame_9.jpg</td>\n",
       "      <td>7</td>\n",
       "    </tr>\n",
       "    <tr>\n",
       "      <th>321</th>\n",
       "      <td>preprocessed\\D\\sinal_13_frame_13.jpg</td>\n",
       "      <td>3</td>\n",
       "    </tr>\n",
       "    <tr>\n",
       "      <th>2091</th>\n",
       "      <td>preprocessed\\V\\sinal_2_frame_6.jpg</td>\n",
       "      <td>21</td>\n",
       "    </tr>\n",
       "    <tr>\n",
       "      <th>665</th>\n",
       "      <td>preprocessed\\G\\sinal_74_frame_12.jpg</td>\n",
       "      <td>6</td>\n",
       "    </tr>\n",
       "    <tr>\n",
       "      <th>2354</th>\n",
       "      <td>preprocessed\\Y\\sinal_28_frame_1.jpg</td>\n",
       "      <td>24</td>\n",
       "    </tr>\n",
       "    <tr>\n",
       "      <th>1710</th>\n",
       "      <td>preprocessed\\S\\sinal_23_frame_12.jpg</td>\n",
       "      <td>18</td>\n",
       "    </tr>\n",
       "    <tr>\n",
       "      <th>513</th>\n",
       "      <td>preprocessed\\F\\sinal_2_frame_17.jpg</td>\n",
       "      <td>5</td>\n",
       "    </tr>\n",
       "  </tbody>\n",
       "</table>\n",
       "</div>"
      ],
      "text/plain": [
       "                                image_path  label\n",
       "2146   preprocessed\\W\\sinal_32_frame_2.jpg     22\n",
       "1304    preprocessed\\O\\sinal_5_frame_2.jpg     14\n",
       "1530   preprocessed\\Q\\sinal_6_frame_16.jpg     16\n",
       "762    preprocessed\\H\\sinal_31_frame_9.jpg      7\n",
       "321   preprocessed\\D\\sinal_13_frame_13.jpg      3\n",
       "2091    preprocessed\\V\\sinal_2_frame_6.jpg     21\n",
       "665   preprocessed\\G\\sinal_74_frame_12.jpg      6\n",
       "2354   preprocessed\\Y\\sinal_28_frame_1.jpg     24\n",
       "1710  preprocessed\\S\\sinal_23_frame_12.jpg     18\n",
       "513    preprocessed\\F\\sinal_2_frame_17.jpg      5"
      ]
     },
     "execution_count": 18,
     "metadata": {},
     "output_type": "execute_result"
    }
   ],
   "source": [
    "data_train.head(10)"
   ]
  },
  {
   "cell_type": "code",
   "execution_count": 19,
   "id": "23453521",
   "metadata": {},
   "outputs": [
    {
     "data": {
      "text/html": [
       "<div>\n",
       "<style scoped>\n",
       "    .dataframe tbody tr th:only-of-type {\n",
       "        vertical-align: middle;\n",
       "    }\n",
       "\n",
       "    .dataframe tbody tr th {\n",
       "        vertical-align: top;\n",
       "    }\n",
       "\n",
       "    .dataframe thead th {\n",
       "        text-align: right;\n",
       "    }\n",
       "</style>\n",
       "<table border=\"1\" class=\"dataframe\">\n",
       "  <thead>\n",
       "    <tr style=\"text-align: right;\">\n",
       "      <th></th>\n",
       "      <th>image_path</th>\n",
       "      <th>label</th>\n",
       "    </tr>\n",
       "  </thead>\n",
       "  <tbody>\n",
       "    <tr>\n",
       "      <th>2052</th>\n",
       "      <td>preprocessed\\V\\sinal_27_frame_13.jpg</td>\n",
       "      <td>21</td>\n",
       "    </tr>\n",
       "    <tr>\n",
       "      <th>1957</th>\n",
       "      <td>preprocessed\\U\\sinal_202_frame_13.jpg</td>\n",
       "      <td>20</td>\n",
       "    </tr>\n",
       "    <tr>\n",
       "      <th>1539</th>\n",
       "      <td>preprocessed\\Q\\sinal_5_frame_2.jpg</td>\n",
       "      <td>16</td>\n",
       "    </tr>\n",
       "    <tr>\n",
       "      <th>701</th>\n",
       "      <td>preprocessed\\H\\sinal_11_frame_5.jpg</td>\n",
       "      <td>7</td>\n",
       "    </tr>\n",
       "    <tr>\n",
       "      <th>1675</th>\n",
       "      <td>preprocessed\\R\\sinal_179_frame_2.jpg</td>\n",
       "      <td>17</td>\n",
       "    </tr>\n",
       "    <tr>\n",
       "      <th>945</th>\n",
       "      <td>preprocessed\\K\\sinal_119_frame_14.jpg</td>\n",
       "      <td>10</td>\n",
       "    </tr>\n",
       "    <tr>\n",
       "      <th>1969</th>\n",
       "      <td>preprocessed\\U\\sinal_2_frame_16.jpg</td>\n",
       "      <td>20</td>\n",
       "    </tr>\n",
       "    <tr>\n",
       "      <th>316</th>\n",
       "      <td>preprocessed\\D\\sinal_38_frame_9.jpg</td>\n",
       "      <td>3</td>\n",
       "    </tr>\n",
       "    <tr>\n",
       "      <th>583</th>\n",
       "      <td>preprocessed\\F\\sinal_5_frame_17.jpg</td>\n",
       "      <td>5</td>\n",
       "    </tr>\n",
       "    <tr>\n",
       "      <th>711</th>\n",
       "      <td>preprocessed\\H\\sinal_14_frame_9.jpg</td>\n",
       "      <td>7</td>\n",
       "    </tr>\n",
       "  </tbody>\n",
       "</table>\n",
       "</div>"
      ],
      "text/plain": [
       "                                 image_path  label\n",
       "2052   preprocessed\\V\\sinal_27_frame_13.jpg     21\n",
       "1957  preprocessed\\U\\sinal_202_frame_13.jpg     20\n",
       "1539     preprocessed\\Q\\sinal_5_frame_2.jpg     16\n",
       "701     preprocessed\\H\\sinal_11_frame_5.jpg      7\n",
       "1675   preprocessed\\R\\sinal_179_frame_2.jpg     17\n",
       "945   preprocessed\\K\\sinal_119_frame_14.jpg     10\n",
       "1969    preprocessed\\U\\sinal_2_frame_16.jpg     20\n",
       "316     preprocessed\\D\\sinal_38_frame_9.jpg      3\n",
       "583     preprocessed\\F\\sinal_5_frame_17.jpg      5\n",
       "711     preprocessed\\H\\sinal_14_frame_9.jpg      7"
      ]
     },
     "execution_count": 19,
     "metadata": {},
     "output_type": "execute_result"
    }
   ],
   "source": [
    "data_val.head(10)"
   ]
  },
  {
   "cell_type": "code",
   "execution_count": 20,
   "id": "96cb3442",
   "metadata": {},
   "outputs": [],
   "source": [
    "train_ds = tf.data.Dataset.from_tensor_slices((data_train['image_path'].values, data_train['label'].values))\n",
    "val_ds = tf.data.Dataset.from_tensor_slices((data_val['image_path'].values, data_val['label'].values))"
   ]
  },
  {
   "cell_type": "code",
   "execution_count": 21,
   "id": "3992b5cf",
   "metadata": {},
   "outputs": [],
   "source": [
    "from tensorflow.keras.applications.mobilenet import preprocess_input\n",
    "\n",
    "IMG_SIZE = (200, 200)\n",
    "\n",
    "def process_image(path, label):\n",
    "    image = tf.io.read_file(path)\n",
    "    image = tf.image.decode_jpeg(image, channels=3)\n",
    "    image = tf.image.resize(image, IMG_SIZE)\n",
    "    image = preprocess_input(image)\n",
    "    return image, label"
   ]
  },
  {
   "cell_type": "code",
   "execution_count": 22,
   "id": "e5b23295",
   "metadata": {},
   "outputs": [],
   "source": [
    "a = next(iter(train_ds))"
   ]
  },
  {
   "cell_type": "code",
   "execution_count": 23,
   "id": "b6a836b7",
   "metadata": {},
   "outputs": [
    {
     "data": {
      "text/plain": [
       "(<tf.Tensor: shape=(), dtype=string, numpy=b'preprocessed\\\\W\\\\sinal_32_frame_2.jpg'>,\n",
       " <tf.Tensor: shape=(), dtype=int64, numpy=22>)"
      ]
     },
     "execution_count": 23,
     "metadata": {},
     "output_type": "execute_result"
    }
   ],
   "source": [
    "a[0], a[1]"
   ]
  },
  {
   "cell_type": "code",
   "execution_count": 24,
   "id": "11016b75",
   "metadata": {},
   "outputs": [],
   "source": [
    "BATCH_SIZE = 32\n",
    "train_ds_processed = train_ds.map(process_image)\n",
    "train_ds_processed = train_ds_processed.shuffle(buffer_size=1000).batch(BATCH_SIZE)\n",
    "val_ds_processed = val_ds.map(process_image)\n",
    "val_ds_processed = val_ds_processed.batch(BATCH_SIZE)"
   ]
  },
  {
   "cell_type": "code",
   "execution_count": 25,
   "id": "840d2149",
   "metadata": {},
   "outputs": [
    {
     "name": "stdout",
     "output_type": "stream",
     "text": [
      "Num GPUs Available: 0\n"
     ]
    }
   ],
   "source": [
    "print(\"Num GPUs Available:\", len(tf.config.list_physical_devices('GPU')))"
   ]
  },
  {
   "cell_type": "code",
   "execution_count": 26,
   "id": "56376711",
   "metadata": {},
   "outputs": [
    {
     "name": "stderr",
     "output_type": "stream",
     "text": [
      "C:\\Users\\Bernardo\\AppData\\Local\\Temp\\ipykernel_27208\\839703697.py:6: UserWarning: `input_shape` is undefined or non-square, or `rows` is not in [128, 160, 192, 224]. Weights for input shape (224, 224) will be loaded as the default.\n",
      "  base_model = MobileNet(include_top=False, input_shape=(200, 200, 3), weights='imagenet')\n"
     ]
    }
   ],
   "source": [
    "from tensorflow.keras.applications import MobileNet\n",
    "from tensorflow.keras import layers, models\n",
    "\n",
    "num_classes = 26\n",
    "\n",
    "base_model = MobileNet(include_top=False, input_shape=(200, 200, 3), weights='imagenet')\n",
    "base_model.trainable = False\n",
    "\n",
    "model = models.Sequential([\n",
    "    base_model,\n",
    "    layers.Flatten(),\n",
    "    layers.Dropout(0.2),\n",
    "    layers.Dense(num_classes, activation='softmax')\n",
    "])\n",
    "\n",
    "model.compile(\n",
    "    optimizer='adam',\n",
    "    loss='sparse_categorical_crossentropy',\n",
    "    metrics=['accuracy']\n",
    ")"
   ]
  },
  {
   "cell_type": "code",
   "execution_count": 27,
   "id": "dbe64ca9",
   "metadata": {},
   "outputs": [
    {
     "name": "stdout",
     "output_type": "stream",
     "text": [
      "Epoch 1/10\n",
      "\u001b[1m53/53\u001b[0m \u001b[32m━━━━━━━━━━━━━━━━━━━━\u001b[0m\u001b[37m\u001b[0m \u001b[1m22s\u001b[0m 377ms/step - accuracy: 0.5376 - loss: 6.5998 - val_accuracy: 0.9472 - val_loss: 0.5208\n",
      "Epoch 2/10\n",
      "\u001b[1m53/53\u001b[0m \u001b[32m━━━━━━━━━━━━━━━━━━━━\u001b[0m\u001b[37m\u001b[0m \u001b[1m19s\u001b[0m 357ms/step - accuracy: 0.9630 - loss: 0.1979 - val_accuracy: 0.9611 - val_loss: 0.3277\n",
      "Epoch 3/10\n",
      "\u001b[1m53/53\u001b[0m \u001b[32m━━━━━━━━━━━━━━━━━━━━\u001b[0m\u001b[37m\u001b[0m \u001b[1m19s\u001b[0m 358ms/step - accuracy: 0.9917 - loss: 0.0350 - val_accuracy: 0.9556 - val_loss: 0.3845\n",
      "Epoch 4/10\n",
      "\u001b[1m53/53\u001b[0m \u001b[32m━━━━━━━━━━━━━━━━━━━━\u001b[0m\u001b[37m\u001b[0m \u001b[1m19s\u001b[0m 358ms/step - accuracy: 0.9850 - loss: 0.0743 - val_accuracy: 0.9750 - val_loss: 0.1476\n",
      "Epoch 5/10\n",
      "\u001b[1m53/53\u001b[0m \u001b[32m━━━━━━━━━━━━━━━━━━━━\u001b[0m\u001b[37m\u001b[0m \u001b[1m19s\u001b[0m 352ms/step - accuracy: 0.9944 - loss: 0.0302 - val_accuracy: 0.9611 - val_loss: 0.3606\n",
      "Epoch 6/10\n",
      "\u001b[1m53/53\u001b[0m \u001b[32m━━━━━━━━━━━━━━━━━━━━\u001b[0m\u001b[37m\u001b[0m \u001b[1m19s\u001b[0m 351ms/step - accuracy: 0.9940 - loss: 0.0527 - val_accuracy: 0.9819 - val_loss: 0.2650\n",
      "Epoch 7/10\n",
      "\u001b[1m53/53\u001b[0m \u001b[32m━━━━━━━━━━━━━━━━━━━━\u001b[0m\u001b[37m\u001b[0m \u001b[1m19s\u001b[0m 350ms/step - accuracy: 0.9972 - loss: 0.0151 - val_accuracy: 0.9792 - val_loss: 0.2743\n",
      "Epoch 8/10\n",
      "\u001b[1m53/53\u001b[0m \u001b[32m━━━━━━━━━━━━━━━━━━━━\u001b[0m\u001b[37m\u001b[0m \u001b[1m19s\u001b[0m 350ms/step - accuracy: 0.9970 - loss: 0.0252 - val_accuracy: 0.9722 - val_loss: 0.2734\n",
      "Epoch 9/10\n",
      "\u001b[1m53/53\u001b[0m \u001b[32m━━━━━━━━━━━━━━━━━━━━\u001b[0m\u001b[37m\u001b[0m \u001b[1m19s\u001b[0m 359ms/step - accuracy: 0.9973 - loss: 0.0099 - val_accuracy: 0.9736 - val_loss: 0.2409\n",
      "Epoch 10/10\n",
      "\u001b[1m53/53\u001b[0m \u001b[32m━━━━━━━━━━━━━━━━━━━━\u001b[0m\u001b[37m\u001b[0m \u001b[1m21s\u001b[0m 399ms/step - accuracy: 0.9926 - loss: 0.0785 - val_accuracy: 0.9292 - val_loss: 0.7625\n"
     ]
    }
   ],
   "source": [
    "history = model.fit(\n",
    "    train_ds_processed,\n",
    "    validation_data=val_ds_processed,\n",
    "    epochs=10\n",
    ") "
   ]
  },
  {
   "cell_type": "code",
   "execution_count": 28,
   "id": "469b8eb4",
   "metadata": {},
   "outputs": [
    {
     "data": {
      "image/png": "[encoded data removed]",
      "text/plain": [
       "<Figure size 800x500 with 1 Axes>"
      ]
     },
     "metadata": {},
     "output_type": "display_data"
    }
   ],
   "source": [
    "train_loss = history.history['loss']\n",
    "val_loss = history.history['val_loss']\n",
    "epochs = np.arange(10)\n",
    "\n",
    "plt.figure(figsize=(8, 5))\n",
    "plt.plot(epochs, train_loss, 'b-', label='Training Loss')\n",
    "plt.plot(epochs, val_loss, 'r-', label='Validation Loss')\n",
    "plt.title('Training vs Validation Loss')\n",
    "plt.xlabel('Epoch')\n",
    "plt.ylabel('Loss')\n",
    "plt.legend()\n",
    "plt.tight_layout()\n",
    "plt.show()"
   ]
  },
  {
   "cell_type": "code",
   "execution_count": 29,
   "id": "31c78078",
   "metadata": {},
   "outputs": [
    {
     "data": {
      "image/png": "[encoded data removed]",
      "text/plain": [
       "<Figure size 800x500 with 1 Axes>"
      ]
     },
     "metadata": {},
     "output_type": "display_data"
    }
   ],
   "source": [
    "train_accuracy = history.history['accuracy']\n",
    "val_accuracy = history.history['val_accuracy']\n",
    "\n",
    "plt.figure(figsize=(8, 5))\n",
    "plt.plot(epochs, train_accuracy, 'b-', label='Training Accuracy')\n",
    "plt.plot(epochs, val_accuracy, 'r-', label='Validation Accuracy')\n",
    "plt.title('Training vs Validation Accuracy')\n",
    "plt.xlabel('Epoch')\n",
    "plt.ylabel('Accuracy')\n",
    "plt.legend()\n",
    "plt.tight_layout()\n",
    "plt.show()"
   ]
  },
  {
   "cell_type": "code",
   "execution_count": 30,
   "id": "6481c3c5",
   "metadata": {},
   "outputs": [],
   "source": [
    "model.save('mobilenet_with_preprocessing.keras')"
   ]
  },
  {
   "cell_type": "code",
   "execution_count": null,
   "id": "136b6ba8",
   "metadata": {},
   "outputs": [],
   "source": []
  }
 ],
 "metadata": {
  "kernelspec": {
   "display_name": "raia_signlink",
   "language": "python",
   "name": "python3"
  },
  "language_info": {
   "codemirror_mode": {
    "name": "ipython",
    "version": 3
   },
   "file_extension": ".py",
   "mimetype": "text/x-python",
   "name": "python",
   "nbconvert_exporter": "python",
   "pygments_lexer": "ipython3",
   "version": "3.9.21"
  }
 },
 "nbformat": 4,
 "nbformat_minor": 5
}
