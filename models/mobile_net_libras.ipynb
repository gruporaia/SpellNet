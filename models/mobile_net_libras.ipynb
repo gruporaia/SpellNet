{
 "cells": [
  {
   "cell_type": "code",
   "execution_count": 1,
   "id": "337b61cf-f237-45d9-b80a-ea4c667ee778",
   "metadata": {},
   "outputs": [
    {
     "name": "stderr",
     "output_type": "stream",
     "text": [
      "2025-05-31 14:31:55.098782: E external/local_xla/xla/stream_executor/cuda/cuda_dnn.cc:9261] Unable to register cuDNN factory: Attempting to register factory for plugin cuDNN when one has already been registered\n",
      "2025-05-31 14:31:55.098828: E external/local_xla/xla/stream_executor/cuda/cuda_fft.cc:607] Unable to register cuFFT factory: Attempting to register factory for plugin cuFFT when one has already been registered\n",
      "2025-05-31 14:31:55.100754: E external/local_xla/xla/stream_executor/cuda/cuda_blas.cc:1515] Unable to register cuBLAS factory: Attempting to register factory for plugin cuBLAS when one has already been registered\n",
      "2025-05-31 14:31:55.115553: I tensorflow/core/platform/cpu_feature_guard.cc:182] This TensorFlow binary is optimized to use available CPU instructions in performance-critical operations.\n",
      "To enable the following instructions: AVX2 FMA, in other operations, rebuild TensorFlow with the appropriate compiler flags.\n"
     ]
    }
   ],
   "source": [
    "import tensorflow as tf\n",
    "from tensorflow.keras import layers, models\n",
    "from tensorflow.keras.applications import EfficientNetB0\n",
    "from tensorflow.keras.preprocessing import image_dataset_from_directory\n",
    "import glob\n",
    "import pandas as pd\n",
    "import os\n",
    "import shutil\n",
    "import numpy as np\n",
    "import matplotlib.pyplot as plt\n",
    "import zipfile\n",
    "from google.cloud import storage\n"
   ]
  },
  {
   "cell_type": "code",
   "execution_count": 2,
   "id": "d703d28b",
   "metadata": {},
   "outputs": [
    {
     "name": "stdout",
     "output_type": "stream",
     "text": [
      "Baixando libras_reprocessado.zip do bucket bucket-signlink para libras_reprocessado.zip...\n"
     ]
    },
    {
     "name": "stdout",
     "output_type": "stream",
     "text": [
      "Download concluído.\n",
      "Extraindo arquivos para /home/jpviguini/testes/tmp...\n",
      "Extração concluída.\n"
     ]
    }
   ],
   "source": [
    "\n",
    "BUCKET_NAME = \"bucket-signlink\"\n",
    "ZIP_BLOB_NAME = \"libras_reprocessado.zip\"\n",
    "\n",
    "\n",
    "LOCAL_ZIP_PATH = \"libras_reprocessado.zip\"\n",
    "EXTRACT_DIR   = \"/home/jpviguini/testes/tmp\"\n",
    "\n",
    "def download_and_extract_zip_from_gcs(bucket_name: str,\n",
    "                                     blob_name: str,\n",
    "                                     download_path: str,\n",
    "                                     extract_to: str):\n",
    "    \n",
    " \n",
    "    client = storage.Client()\n",
    "    bucket = client.bucket(bucket_name)\n",
    "    blob = bucket.blob(blob_name)\n",
    "\n",
    "    print(f\"Baixando {blob_name} do bucket {bucket_name} para {download_path}...\")\n",
    "    blob.download_to_filename(download_path)\n",
    "    print(\"Download concluído.\")\n",
    "\n",
    "  \n",
    "    os.makedirs(extract_to, exist_ok=True)\n",
    "\n",
    "   \n",
    "    with zipfile.ZipFile(download_path, 'r') as zip_ref:\n",
    "        print(f\"Extraindo arquivos para {extract_to}...\")\n",
    "        zip_ref.extractall(extract_to)\n",
    "    print(\"Extração concluída.\")\n",
    "\n",
    "\n",
    "download_and_extract_zip_from_gcs(\n",
    "    BUCKET_NAME,\n",
    "    ZIP_BLOB_NAME,\n",
    "    LOCAL_ZIP_PATH,\n",
    "    EXTRACT_DIR\n",
    ")"
   ]
  },
  {
   "cell_type": "code",
   "execution_count": 20,
   "id": "ad936ac4-0167-49b3-a33f-8e4a19313439",
   "metadata": {},
   "outputs": [],
   "source": [
    "labels = ['A', 'B', 'C', 'D', 'E', 'F', 'G', 'I', 'L', 'M', 'N', 'O', 'P', 'Q', 'R', 'S', 'T', 'U', 'V', 'W', 'Y']\n",
    "list_path = []\n",
    "list_labels = []\n",
    "\n",
    "\n",
    "DATA_PATHS = [\n",
    "                \"./tmp/libras_reprocessado/libras_aug_com_landmarks_novo/libras_augmentadas_heavy/libras-viguini-esquerda\", \n",
    "                \"./tmp/libras_reprocessado/libras_aug_com_landmarks_novo/libras_augmentadas_heavy/libras-viguini-direita\", \n",
    "                \"./tmp/libras_reprocessado/libras_aug_com_landmarks_novo/libras_augmentadas_heavy/libras-iamato-esquerda\", \n",
    "                \"./tmp/libras_reprocessado/libras_aug_com_landmarks_novo/libras_augmentadas_heavy/libras-iamato-direita\", \n",
    "                \"./tmp/libras_reprocessado/libras_aug_com_landmarks_novo/libras_augmentadas_heavy/libras-dani-esquerda\",\n",
    "                \"./tmp/libras_reprocessado/libras_aug_com_landmarks_novo/libras_augmentadas_heavy/libras-dani-direita\", \n",
    "                \"./tmp/libras_reprocessado/libras_aug_com_landmarks_novo/libras_augmentadas_heavy/libras-odonto-esquerda\", \n",
    "                \"./tmp/libras_reprocessado/libras_aug_com_landmarks_novo/libras_augmentadas_heavy/libras-odonto-direita\", \n",
    "\n",
    "                \"./tmp/libras_reprocessado/libras_normal_com_landmarks_novo/libras-viguini-esquerda\", \n",
    "                \"./tmp/libras_reprocessado/libras_normal_com_landmarks_novo/libras-viguini-direita\", \n",
    "                \"./tmp/libras_reprocessado/libras_normal_com_landmarks_novo/libras-iamato-esquerda\", \n",
    "                \"./tmp/libras_reprocessado/libras_normal_com_landmarks_novo/libras-iamato-direita\", \n",
    "                \"./tmp/libras_reprocessado/libras_normal_com_landmarks_novo/libras-dani-esquerda\",\n",
    "                \"./tmp/libras_reprocessado/libras_normal_com_landmarks_novo/libras-dani-direita\", \n",
    "                \"./tmp/libras_reprocessado/libras_normal_com_landmarks_novo/libras-odonto-esquerda\", \n",
    "                \"./tmp/libras_reprocessado/libras_normal_com_landmarks_novo/libras-odonto-direita\", \n",
    "\n",
    "\n",
    "                ] \n",
    "\n",
    "TEST_PATHS = [\"./tmp/libras_reprocessado/libras_normal_com_landmarks_novo/libras-cecilia-direita\", \n",
    "              \"./tmp/libras_reprocessado/libras_normal_com_landmarks_novo/libras-cecilia-esquerda\"]\n",
    "\n",
    "for path in DATA_PATHS:\n",
    "    if path not in TEST_PATHS:\n",
    "        for label in labels:\n",
    "            label_path = os.path.join(path, label, \"*\")\n",
    "            \n",
    "            image_files = glob.glob(label_path)\n",
    "            \n",
    "            sign_label = [label] * len(image_files)\n",
    "            \n",
    "            list_path.extend(image_files)\n",
    "            list_labels.extend(sign_label)\n",
    "\n",
    "data_train = pd.DataFrame({\n",
    "    \"image_path\": list_path,\n",
    "    \"label\": list_labels\n",
    "})\n",
    "\n",
    "list_path = []\n",
    "list_labels = []\n",
    "\n",
    "for test_path in TEST_PATHS:\n",
    "    for label in labels:\n",
    "        label_path = os.path.join(test_path, label, \"*\")\n",
    "        image_files = glob.glob(label_path)\n",
    "        \n",
    "        sign_label = [label] * len(image_files)\n",
    "        \n",
    "        list_path.extend(image_files)\n",
    "        list_labels.extend(sign_label)\n",
    "\n",
    "data_val = pd.DataFrame({\n",
    "    \"image_path\": list_path,\n",
    "    \"label\": list_labels\n",
    "})\n",
    "\n"
   ]
  },
  {
   "cell_type": "code",
   "execution_count": null,
   "id": "be790923",
   "metadata": {},
   "outputs": [
    {
     "name": "stdout",
     "output_type": "stream",
     "text": [
      "Renomeado: f -> F\n",
      "Renomeado: p -> P\n",
      "Renomeado: v -> V\n",
      "Renomeado: s -> S\n",
      "Renomeado: o -> O\n",
      "Renomeado: e -> E\n",
      "Renomeado: g -> G\n",
      "Renomeado: d -> D\n",
      "Renomeado: q -> Q\n",
      "Renomeado: t -> T\n",
      "Renomeado: b -> B\n",
      "Renomeado: m -> M\n",
      "Renomeado: a -> A\n",
      "Renomeado: c -> C\n",
      "Renomeado: w -> W\n",
      "Renomeado: r -> R\n",
      "Renomeado: n -> N\n",
      "Renomeado: u -> U\n",
      "Renomeado: l -> L\n",
      "Renomeado: y -> Y\n",
      "Renomeado: i -> I\n"
     ]
    }
   ],
   "source": [
    "# corrigir os labels do odonto (botar pra maiúscula)\n",
    "pasta_principal = \"/home/jpviguini/testes/tmp/libras_reprocessado/libras_normal_com_landmarks_novo/libras-odonto-esquerda\"\n",
    "\n",
    "\n",
    "for item in os.listdir(pasta_principal):\n",
    "    caminho_antigo = os.path.join(pasta_principal, item)\n",
    "\n",
    "    if os.path.isdir(caminho_antigo):\n",
    "        nome_maiusculo = item.upper()\n",
    "        caminho_novo = os.path.join(pasta_principal, nome_maiusculo)\n",
    "\n",
    "        if caminho_antigo != caminho_novo:\n",
    "            if not os.path.exists(caminho_novo):\n",
    "                os.rename(caminho_antigo, caminho_novo)\n",
    "                print(f\"Renomeado: {item} -> {nome_maiusculo}\")\n",
    "            else:\n",
    "                print(f\"Já existe uma pasta com o nome: {nome_maiusculo} — ignorando.\")"
   ]
  },
  {
   "cell_type": "code",
   "execution_count": null,
   "id": "50856184-f294-4313-8d04-11ec2d0ab227",
   "metadata": {},
   "outputs": [
    {
     "name": "stdout",
     "output_type": "stream",
     "text": [
      "Distribuição das classes no treino balanceado:\n",
      "label\n",
      "W    3706\n",
      "L    3706\n",
      "G    3706\n",
      "C    3706\n",
      "F    3706\n",
      "A    3706\n",
      "S    3706\n",
      "B    3706\n",
      "E    3706\n",
      "N    3706\n",
      "V    3706\n",
      "D    3706\n",
      "O    3706\n",
      "I    3706\n",
      "P    3706\n",
      "T    3706\n",
      "R    3706\n",
      "M    3706\n",
      "Q    3706\n",
      "Y    3706\n",
      "U    3706\n",
      "Name: count, dtype: int64\n"
     ]
    }
   ],
   "source": [
    "\n",
    "\n",
    "min_count = data_train['label'].value_counts().min()\n",
    "\n",
    "\n",
    "balanced_train = pd.DataFrame()\n",
    "\n",
    "# Para cada label, pegar min_count amostras\n",
    "for label in data_train['label'].unique():\n",
    "    label_df = data_train[data_train['label'] == label]\n",
    "    if len(label_df) > min_count:\n",
    "        label_df = label_df.sample(min_count, random_state=42)  # random_state para reprodutibilidade\n",
    "    balanced_train = pd.concat([balanced_train, label_df])\n",
    "\n",
    "# Embaralhar os dados\n",
    "balanced_train = balanced_train.sample(frac=1, random_state=42).reset_index(drop=True)\n",
    "\n",
    "\n",
    "data_train = balanced_train\n",
    "\n",
    "# Verificar o resultado\n",
    "print(\"Distribuição das classes no treino balanceado:\")\n",
    "print(data_train['label'].value_counts())\n",
    "\n",
    "\n",
    "list_path = []\n",
    "list_labels = []\n",
    "\n",
    "for test_path in TEST_PATHS:\n",
    "    for label in labels:\n",
    "        label_path = os.path.join(test_path, label, \"*\")\n",
    "        image_files = glob.glob(label_path)\n",
    "        sign_label = [label] * len(image_files)\n",
    "        list_path.extend(image_files)\n",
    "        list_labels.extend(sign_label)\n",
    "\n",
    "data_val = pd.DataFrame({\n",
    "    \"image_path\": list_path,\n",
    "    \"label\": list_labels\n",
    "})\n",
    "\n",
    "# data_train['label'].value_counts()"
   ]
  },
  {
   "cell_type": "code",
   "execution_count": 7,
   "id": "10e17757-94e8-4c86-bed2-fe0ec4e41f6b",
   "metadata": {},
   "outputs": [],
   "source": [
    "label_to_index = {\n",
    "    'A': 0,\n",
    "    'B': 1,\n",
    "    'C': 2,\n",
    "    'D': 3,\n",
    "    'E': 4,\n",
    "    'F': 5,\n",
    "    'G': 6,\n",
    "    'I': 7,\n",
    "    'L': 8,\n",
    "    'M': 9,\n",
    "    'N': 10,\n",
    "    'O': 11,\n",
    "    'P': 12,\n",
    "    'Q': 13,\n",
    "    'R': 14,\n",
    "    'S': 15,\n",
    "    'T': 16,\n",
    "    'U': 17,\n",
    "    'V': 18,\n",
    "    'W': 19,\n",
    "    'Y': 20\n",
    "}\n",
    "\n",
    "\n",
    "data_train['label'] = data_train['label'].map(label_to_index)\n",
    "data_val['label'] = data_val['label'].map(label_to_index)"
   ]
  },
  {
   "cell_type": "code",
   "execution_count": 8,
   "id": "934554c4-96cf-46fd-92b4-0eb8455a40ae",
   "metadata": {},
   "outputs": [
    {
     "data": {
      "text/html": [
       "<div>\n",
       "<style scoped>\n",
       "    .dataframe tbody tr th:only-of-type {\n",
       "        vertical-align: middle;\n",
       "    }\n",
       "\n",
       "    .dataframe tbody tr th {\n",
       "        vertical-align: top;\n",
       "    }\n",
       "\n",
       "    .dataframe thead th {\n",
       "        text-align: right;\n",
       "    }\n",
       "</style>\n",
       "<table border=\"1\" class=\"dataframe\">\n",
       "  <thead>\n",
       "    <tr style=\"text-align: right;\">\n",
       "      <th></th>\n",
       "      <th>image_path</th>\n",
       "      <th>label</th>\n",
       "    </tr>\n",
       "  </thead>\n",
       "  <tbody>\n",
       "    <tr>\n",
       "      <th>0</th>\n",
       "      <td>./tmp/libras_reprocessado/libras_normal_com_la...</td>\n",
       "      <td>0</td>\n",
       "    </tr>\n",
       "    <tr>\n",
       "      <th>1</th>\n",
       "      <td>./tmp/libras_reprocessado/libras_normal_com_la...</td>\n",
       "      <td>0</td>\n",
       "    </tr>\n",
       "    <tr>\n",
       "      <th>2</th>\n",
       "      <td>./tmp/libras_reprocessado/libras_normal_com_la...</td>\n",
       "      <td>0</td>\n",
       "    </tr>\n",
       "    <tr>\n",
       "      <th>3</th>\n",
       "      <td>./tmp/libras_reprocessado/libras_normal_com_la...</td>\n",
       "      <td>0</td>\n",
       "    </tr>\n",
       "    <tr>\n",
       "      <th>4</th>\n",
       "      <td>./tmp/libras_reprocessado/libras_normal_com_la...</td>\n",
       "      <td>0</td>\n",
       "    </tr>\n",
       "    <tr>\n",
       "      <th>5</th>\n",
       "      <td>./tmp/libras_reprocessado/libras_normal_com_la...</td>\n",
       "      <td>0</td>\n",
       "    </tr>\n",
       "    <tr>\n",
       "      <th>6</th>\n",
       "      <td>./tmp/libras_reprocessado/libras_normal_com_la...</td>\n",
       "      <td>0</td>\n",
       "    </tr>\n",
       "    <tr>\n",
       "      <th>7</th>\n",
       "      <td>./tmp/libras_reprocessado/libras_normal_com_la...</td>\n",
       "      <td>0</td>\n",
       "    </tr>\n",
       "    <tr>\n",
       "      <th>8</th>\n",
       "      <td>./tmp/libras_reprocessado/libras_normal_com_la...</td>\n",
       "      <td>0</td>\n",
       "    </tr>\n",
       "    <tr>\n",
       "      <th>9</th>\n",
       "      <td>./tmp/libras_reprocessado/libras_normal_com_la...</td>\n",
       "      <td>0</td>\n",
       "    </tr>\n",
       "  </tbody>\n",
       "</table>\n",
       "</div>"
      ],
      "text/plain": [
       "                                          image_path  label\n",
       "0  ./tmp/libras_reprocessado/libras_normal_com_la...      0\n",
       "1  ./tmp/libras_reprocessado/libras_normal_com_la...      0\n",
       "2  ./tmp/libras_reprocessado/libras_normal_com_la...      0\n",
       "3  ./tmp/libras_reprocessado/libras_normal_com_la...      0\n",
       "4  ./tmp/libras_reprocessado/libras_normal_com_la...      0\n",
       "5  ./tmp/libras_reprocessado/libras_normal_com_la...      0\n",
       "6  ./tmp/libras_reprocessado/libras_normal_com_la...      0\n",
       "7  ./tmp/libras_reprocessado/libras_normal_com_la...      0\n",
       "8  ./tmp/libras_reprocessado/libras_normal_com_la...      0\n",
       "9  ./tmp/libras_reprocessado/libras_normal_com_la...      0"
      ]
     },
     "execution_count": 8,
     "metadata": {},
     "output_type": "execute_result"
    }
   ],
   "source": [
    "data_val.head(10)"
   ]
  },
  {
   "cell_type": "code",
   "execution_count": 9,
   "id": "d77ec677-92c9-4dca-9b21-d29e53248bcd",
   "metadata": {},
   "outputs": [
    {
     "name": "stderr",
     "output_type": "stream",
     "text": [
      "2025-05-31 14:36:39.104669: I external/local_xla/xla/stream_executor/cuda/cuda_executor.cc:901] successful NUMA node read from SysFS had negative value (-1), but there must be at least one NUMA node, so returning NUMA node zero. See more at https://github.com/torvalds/linux/blob/v6.0/Documentation/ABI/testing/sysfs-bus-pci#L344-L355\n",
      "2025-05-31 14:36:39.125962: I external/local_xla/xla/stream_executor/cuda/cuda_executor.cc:901] successful NUMA node read from SysFS had negative value (-1), but there must be at least one NUMA node, so returning NUMA node zero. See more at https://github.com/torvalds/linux/blob/v6.0/Documentation/ABI/testing/sysfs-bus-pci#L344-L355\n",
      "2025-05-31 14:36:39.127941: I external/local_xla/xla/stream_executor/cuda/cuda_executor.cc:901] successful NUMA node read from SysFS had negative value (-1), but there must be at least one NUMA node, so returning NUMA node zero. See more at https://github.com/torvalds/linux/blob/v6.0/Documentation/ABI/testing/sysfs-bus-pci#L344-L355\n",
      "2025-05-31 14:36:39.131054: I external/local_xla/xla/stream_executor/cuda/cuda_executor.cc:901] successful NUMA node read from SysFS had negative value (-1), but there must be at least one NUMA node, so returning NUMA node zero. See more at https://github.com/torvalds/linux/blob/v6.0/Documentation/ABI/testing/sysfs-bus-pci#L344-L355\n",
      "2025-05-31 14:36:39.133019: I external/local_xla/xla/stream_executor/cuda/cuda_executor.cc:901] successful NUMA node read from SysFS had negative value (-1), but there must be at least one NUMA node, so returning NUMA node zero. See more at https://github.com/torvalds/linux/blob/v6.0/Documentation/ABI/testing/sysfs-bus-pci#L344-L355\n",
      "2025-05-31 14:36:39.134921: I external/local_xla/xla/stream_executor/cuda/cuda_executor.cc:901] successful NUMA node read from SysFS had negative value (-1), but there must be at least one NUMA node, so returning NUMA node zero. See more at https://github.com/torvalds/linux/blob/v6.0/Documentation/ABI/testing/sysfs-bus-pci#L344-L355\n",
      "2025-05-31 14:36:39.435725: I external/local_xla/xla/stream_executor/cuda/cuda_executor.cc:901] successful NUMA node read from SysFS had negative value (-1), but there must be at least one NUMA node, so returning NUMA node zero. See more at https://github.com/torvalds/linux/blob/v6.0/Documentation/ABI/testing/sysfs-bus-pci#L344-L355\n",
      "2025-05-31 14:36:39.437891: I external/local_xla/xla/stream_executor/cuda/cuda_executor.cc:901] successful NUMA node read from SysFS had negative value (-1), but there must be at least one NUMA node, so returning NUMA node zero. See more at https://github.com/torvalds/linux/blob/v6.0/Documentation/ABI/testing/sysfs-bus-pci#L344-L355\n",
      "2025-05-31 14:36:39.439877: I external/local_xla/xla/stream_executor/cuda/cuda_executor.cc:901] successful NUMA node read from SysFS had negative value (-1), but there must be at least one NUMA node, so returning NUMA node zero. See more at https://github.com/torvalds/linux/blob/v6.0/Documentation/ABI/testing/sysfs-bus-pci#L344-L355\n",
      "2025-05-31 14:36:39.441834: I tensorflow/core/common_runtime/gpu/gpu_device.cc:1929] Created device /job:localhost/replica:0/task:0/device:GPU:0 with 13764 MB memory:  -> device: 0, name: Tesla T4, pci bus id: 0000:00:04.0, compute capability: 7.5\n"
     ]
    }
   ],
   "source": [
    "train_ds = tf.data.Dataset.from_tensor_slices((data_train['image_path'].values, data_train['label'].values))\n",
    "val_ds = tf.data.Dataset.from_tensor_slices((data_val['image_path'].values, data_val['label'].values))"
   ]
  },
  {
   "cell_type": "code",
   "execution_count": 10,
   "id": "325a5f40-6d31-4272-b71d-1c8ab2268fcd",
   "metadata": {},
   "outputs": [],
   "source": [
    "from tensorflow.keras.applications.mobilenet import preprocess_input\n",
    "\n",
    "IMG_SIZE = (224, 224)\n",
    "\n",
    "def process_image(path, label):\n",
    "    image = tf.io.read_file(path)\n",
    "    image = tf.image.decode_jpeg(image, channels=3)\n",
    "    image = tf.image.resize(image, IMG_SIZE)\n",
    "    image = preprocess_input(image)\n",
    "    return image, label"
   ]
  },
  {
   "cell_type": "code",
   "execution_count": 11,
   "id": "ff3415ca-7ad7-4569-93af-5b00c5c830a2",
   "metadata": {},
   "outputs": [],
   "source": [
    "BATCH_SIZE = 32\n",
    "train_ds = train_ds.map(process_image)\n",
    "train_ds = train_ds.shuffle(buffer_size=1000).batch(BATCH_SIZE)\n",
    "val_ds = val_ds.map(process_image)\n",
    "val_ds = val_ds.batch(BATCH_SIZE)"
   ]
  },
  {
   "cell_type": "code",
   "execution_count": 12,
   "id": "15813d4f-68ab-4da7-94ab-4c876c121566",
   "metadata": {},
   "outputs": [
    {
     "name": "stdout",
     "output_type": "stream",
     "text": [
      "Num GPUs Available: 1\n"
     ]
    }
   ],
   "source": [
    "print(\"Num GPUs Available:\", len(tf.config.list_physical_devices('GPU')))"
   ]
  },
  {
   "cell_type": "code",
   "execution_count": 13,
   "id": "a9b060e3-59ce-4367-920f-67a567414f61",
   "metadata": {},
   "outputs": [],
   "source": [
    "from tensorflow.keras.applications import MobileNet\n",
    "from tensorflow.keras import layers, models\n",
    "\n",
    "num_classes = data_train['label'].nunique()\n",
    "\n",
    "base_model = MobileNet(include_top=False, input_shape=(224, 224, 3), weights='imagenet')\n",
    "base_model.trainable = False\n",
    "\n",
    "model = models.Sequential([\n",
    "    base_model,\n",
    "    layers.Flatten(),\n",
    "    layers.Dropout(0.2),\n",
    "    layers.Dense(num_classes, activation='softmax')\n",
    "])\n",
    "\n",
    "model.compile(\n",
    "    optimizer='adam',\n",
    "    loss='sparse_categorical_crossentropy',\n",
    "    metrics=['accuracy']\n",
    ")"
   ]
  },
  {
   "cell_type": "code",
   "execution_count": 14,
   "id": "d894f607-63c8-4496-9e97-7daa0f4602eb",
   "metadata": {},
   "outputs": [
    {
     "name": "stdout",
     "output_type": "stream",
     "text": [
      "Epoch 1/8\n"
     ]
    },
    {
     "name": "stderr",
     "output_type": "stream",
     "text": [
      "2025-05-31 14:36:56.799776: I external/local_xla/xla/stream_executor/cuda/cuda_dnn.cc:454] Loaded cuDNN version 8904\n",
      "2025-05-31 14:36:58.837107: I external/local_xla/xla/service/service.cc:168] XLA service 0x7f3a1c76e700 initialized for platform CUDA (this does not guarantee that XLA will be used). Devices:\n",
      "2025-05-31 14:36:58.837152: I external/local_xla/xla/service/service.cc:176]   StreamExecutor device (0): Tesla T4, Compute Capability 7.5\n",
      "2025-05-31 14:36:58.845303: I tensorflow/compiler/mlir/tensorflow/utils/dump_mlir_util.cc:269] disabling MLIR crash reproducer, set env var `MLIR_CRASH_REPRODUCER_DIRECTORY` to enable.\n",
      "WARNING: All log messages before absl::InitializeLog() is called are written to STDERR\n",
      "I0000 00:00:1748702218.964721 1867880 device_compiler.h:186] Compiled cluster using XLA!  This line is logged at most once for the lifetime of the process.\n"
     ]
    },
    {
     "name": "stdout",
     "output_type": "stream",
     "text": [
      "2433/2433 [==============================] - 114s 45ms/step - loss: 1.8292 - accuracy: 0.9127 - val_loss: 14.6893 - val_accuracy: 0.6138\n",
      "Epoch 2/8\n",
      "2433/2433 [==============================] - 109s 45ms/step - loss: 0.8624 - accuracy: 0.9695 - val_loss: 16.8404 - val_accuracy: 0.6466\n",
      "Epoch 3/8\n",
      "2433/2433 [==============================] - 109s 45ms/step - loss: 0.6399 - accuracy: 0.9794 - val_loss: 19.0966 - val_accuracy: 0.6721\n",
      "Epoch 4/8\n",
      "2433/2433 [==============================] - 109s 45ms/step - loss: 0.5183 - accuracy: 0.9846 - val_loss: 24.1659 - val_accuracy: 0.6538\n",
      "Epoch 5/8\n",
      "2433/2433 [==============================] - 108s 44ms/step - loss: 0.4557 - accuracy: 0.9875 - val_loss: 30.0806 - val_accuracy: 0.6340\n",
      "Epoch 6/8\n",
      "2433/2433 [==============================] - 109s 45ms/step - loss: 0.3529 - accuracy: 0.9903 - val_loss: 44.7270 - val_accuracy: 0.6076\n",
      "Epoch 7/8\n",
      "2433/2433 [==============================] - 109s 45ms/step - loss: 0.3313 - accuracy: 0.9916 - val_loss: 33.9031 - val_accuracy: 0.6795\n",
      "Epoch 8/8\n",
      "2433/2433 [==============================] - 109s 45ms/step - loss: 0.2805 - accuracy: 0.9927 - val_loss: 43.7052 - val_accuracy: 0.6473\n"
     ]
    }
   ],
   "source": [
    "EPOCHS = 8\n",
    "history = model.fit(\n",
    "    train_ds,\n",
    "    validation_data=val_ds,\n",
    "    epochs=EPOCHS\n",
    ")"
   ]
  },
  {
   "cell_type": "code",
   "execution_count": 15,
   "id": "737e2617-0303-405c-9e9a-069a4ae6efe9",
   "metadata": {},
   "outputs": [
    {
     "data": {
      "image/png": "[encoded data removed]",
      "text/plain": [
       "<Figure size 800x500 with 1 Axes>"
      ]
     },
     "metadata": {},
     "output_type": "display_data"
    }
   ],
   "source": [
    "train_loss = history.history['loss']\n",
    "val_loss = history.history['val_loss']\n",
    "epochs = np.arange(EPOCHS)\n",
    "\n",
    "plt.figure(figsize=(8, 5))\n",
    "plt.plot(epochs, train_loss, 'b-', label='Training Loss')\n",
    "plt.plot(epochs, val_loss, 'r-', label='Validation Loss')\n",
    "plt.title('Training vs Validation Loss')\n",
    "plt.xlabel('Epoch')\n",
    "plt.ylabel('Loss')\n",
    "plt.legend()\n",
    "plt.tight_layout()\n",
    "plt.show()"
   ]
  },
  {
   "cell_type": "code",
   "execution_count": 16,
   "id": "332b4949-5d68-4534-a30d-0f8f7e839d97",
   "metadata": {},
   "outputs": [
    {
     "data": {
      "image/png": "[encoded data removed]",
      "text/plain": [
       "<Figure size 800x500 with 1 Axes>"
      ]
     },
     "metadata": {},
     "output_type": "display_data"
    }
   ],
   "source": [
    "train_accuracy = history.history['accuracy']\n",
    "val_accuracy = history.history['val_accuracy']\n",
    "\n",
    "plt.figure(figsize=(8, 5))\n",
    "plt.plot(epochs, train_accuracy, 'b-', label='Training Accuracy')\n",
    "plt.plot(epochs, val_accuracy, 'r-', label='Validation Accuracy')\n",
    "plt.title('Training vs Validation Accuracy')\n",
    "plt.xlabel('Epoch')\n",
    "plt.ylabel('Accuracy')\n",
    "plt.legend()\n",
    "plt.tight_layout()\n",
    "plt.show()"
   ]
  },
  {
   "cell_type": "code",
   "execution_count": 17,
   "id": "f8a5cc56-231c-4a7e-affd-ef7779673e9a",
   "metadata": {},
   "outputs": [
    {
     "name": "stdout",
     "output_type": "stream",
     "text": [
      "Found 8967 images belonging to 21 classes.\n",
      "281/281 [==============================] - 15s 51ms/step\n",
      "Per-class Accuracy:\n",
      "\n",
      "   Class  Accuracy\n",
      "0      A  0.615804\n",
      "1      B  0.856132\n",
      "2      C  0.977215\n",
      "3      D  0.790754\n",
      "4      E  0.902564\n",
      "5      F  0.941889\n",
      "6      G  0.289855\n",
      "7      I  0.849383\n",
      "8      L  0.879808\n",
      "9      M  0.515400\n",
      "10     N  0.447619\n",
      "11     O  0.895735\n",
      "12     P  0.986456\n",
      "13     Q  0.712264\n",
      "14     R  0.985112\n",
      "15     S  0.823276\n",
      "16     T  0.015414\n",
      "17     U  0.243750\n",
      "18     V  0.016471\n",
      "19     W  1.000000\n",
      "20     Y  0.637232\n",
      "\n",
      "Total Accuracy: 0.6726\n"
     ]
    }
   ],
   "source": [
    "from tensorflow.keras.preprocessing.image import ImageDataGenerator\n",
    "from tensorflow.keras.applications.mobilenet import preprocess_input\n",
    "from sklearn.metrics import classification_report, confusion_matrix, accuracy_score\n",
    "import numpy as np\n",
    "import pandas as pd\n",
    "\n",
    "# === Parameters ===\n",
    "image_size = (224, 224)  # MobileNet expects 224x224\n",
    "batch_size = 32\n",
    "test_dir = TEST_PATHS[0]\n",
    "\n",
    "# === Data Generator ===\n",
    "test_datagen = ImageDataGenerator(preprocessing_function=preprocess_input)\n",
    "\n",
    "test_generator = test_datagen.flow_from_directory(\n",
    "    test_dir,\n",
    "    target_size=image_size,\n",
    "    batch_size=batch_size,\n",
    "    class_mode='categorical',\n",
    "    shuffle=False\n",
    ")\n",
    "\n",
    "# === Predict ===\n",
    "predictions = model.predict(test_generator, verbose=1)\n",
    "predicted_classes = np.argmax(predictions, axis=1)\n",
    "true_classes = test_generator.classes\n",
    "class_labels = list(test_generator.class_indices.keys())\n",
    "\n",
    "# === Confusion Matrix & Accuracy ===\n",
    "cm = confusion_matrix(true_classes, predicted_classes)\n",
    "per_class_accuracy = cm.diagonal() / cm.sum(axis=1)\n",
    "total_accuracy = accuracy_score(true_classes, predicted_classes)\n",
    "\n",
    "# === Print Results ===\n",
    "df_accuracy = pd.DataFrame({\n",
    "    'Class': class_labels,\n",
    "    'Accuracy': per_class_accuracy\n",
    "})\n",
    "\n",
    "print(\"Per-class Accuracy:\\n\")\n",
    "print(df_accuracy)\n",
    "print(f\"\\nTotal Accuracy: {total_accuracy:.4f}\")\n"
   ]
  },
  {
   "cell_type": "code",
   "execution_count": 22,
   "id": "31bd8aef-c5e0-447b-9bb9-c9178dc42575",
   "metadata": {},
   "outputs": [
    {
     "name": "stderr",
     "output_type": "stream",
     "text": [
      "/opt/conda/lib/python3.10/site-packages/keras/src/engine/training.py:3103: UserWarning: You are saving your model as an HDF5 file via `model.save()`. This file format is considered legacy. We recommend using instead the native Keras format, e.g. `model.save('my_model.keras')`.\n",
      "  saving_api.save_model(\n"
     ]
    }
   ],
   "source": [
    "model.save('models/mobilenet_padronizado.h5')"
   ]
  },
  {
   "cell_type": "code",
   "execution_count": 23,
   "id": "742f4f0c-f9a7-4283-890d-f6a456dd96ce",
   "metadata": {},
   "outputs": [],
   "source": [
    "model.save(\"libras_heavy_balanceado_ceci.keras\", save_format=\"keras_v3\")"
   ]
  },
  {
   "cell_type": "code",
   "execution_count": null,
   "id": "ea5c9192-768c-46a1-bbc2-0a71944274ba",
   "metadata": {},
   "outputs": [],
   "source": []
  }
 ],
 "metadata": {
  "kernelspec": {
   "display_name": "base",
   "language": "python",
   "name": "python3"
  },
  "language_info": {
   "codemirror_mode": {
    "name": "ipython",
    "version": 3
   },
   "file_extension": ".py",
   "mimetype": "text/x-python",
   "name": "python",
   "nbconvert_exporter": "python",
   "pygments_lexer": "ipython3",
   "version": "3.10.15"
  }
 },
 "nbformat": 4,
 "nbformat_minor": 5
}
