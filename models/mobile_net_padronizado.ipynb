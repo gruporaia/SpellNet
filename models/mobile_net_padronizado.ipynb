{
 "cells": [
  {
   "cell_type": "code",
   "execution_count": 2,
   "id": "337b61cf-f237-45d9-b80a-ea4c667ee778",
   "metadata": {},
   "outputs": [
    {
     "name": "stderr",
     "output_type": "stream",
     "text": [
      "C:\\Users\\User\\anaconda3\\envs\\gpu_env\\lib\\site-packages\\h5py\\__init__.py:36: UserWarning: h5py is running against HDF5 1.14.6 when it was built against 1.14.5, this may cause problems\n",
      "  _warn((\"h5py is running against HDF5 {0} when it was built against {1}, \"\n"
     ]
    }
   ],
   "source": [
    "import tensorflow as tf\n",
    "from tensorflow.keras import layers, models\n",
    "from tensorflow.keras.applications import EfficientNetB0\n",
    "from tensorflow.keras.preprocessing import image_dataset_from_directory\n",
    "import glob\n",
    "import pandas as pd\n",
    "import os\n",
    "import shutil\n",
    "import numpy as np\n",
    "import matplotlib.pyplot as plt"
   ]
  },
  {
   "cell_type": "code",
   "execution_count": null,
   "id": "ad936ac4-0167-49b3-a33f-8e4a19313439",
   "metadata": {},
   "outputs": [],
   "source": [
    "labels = ['A', 'B', 'C', 'D', 'E', 'F', 'G', 'H', 'I', 'K', 'L', 'M', 'N', 'O', 'P', 'Q', 'R', 'S', 'T', 'U', 'V', 'W', 'X', 'Y']\n",
    "list_path = []\n",
    "list_labels = []\n",
    "DATA_PATHS = [\"cecilia_direita_landmarks\", \"cecilia_esquerda_landmarks\",\"dani_direita_landmarks\",\"dani_esquerda_landmarks\",\"iamato_direita_landmarks\",\"iamato_esquerda_landmarks\", \"odonto_direita_landmarks\", \"odonto_esquerda_landmarks\", \"viguini_esquerda_landmarks\", \"viguini_direita_landmarks\"] \n",
    "TEST_PATHS = [\"cecilia_direita_landmarks\", \"cecilia_esquerda_landmarks\"]\n",
    "\n",
    "for path in DATA_PATHS:\n",
    "    if path not in TEST_PATHS:\n",
    "        for label in labels:\n",
    "            label_path = os.path.join(path, label, \"*\")\n",
    "            image_files = glob.glob(label_path)\n",
    "            \n",
    "            sign_label = [label] * len(image_files)\n",
    "            \n",
    "            list_path.extend(image_files)\n",
    "            list_labels.extend(sign_label)\n",
    "\n",
    "data_train = pd.DataFrame({\n",
    "    \"image_path\": list_path,\n",
    "    \"label\": list_labels\n",
    "})\n",
    "\n",
    "list_path = []\n",
    "list_labels = []\n",
    "\n",
    "for test_path in TEST_PATHS:\n",
    "    for label in labels:\n",
    "        label_path = os.path.join(test_path, label, \"*\")\n",
    "        image_files = glob.glob(label_path)\n",
    "        \n",
    "        sign_label = [label] * len(image_files)\n",
    "        \n",
    "        list_path.extend(image_files)\n",
    "        list_labels.extend(sign_label)\n",
    "\n",
    "data_val = pd.DataFrame({\n",
    "    \"image_path\": list_path,\n",
    "    \"label\": list_labels\n",
    "})"
   ]
  },
  {
   "cell_type": "code",
   "execution_count": 14,
   "id": "50856184-f294-4313-8d04-11ec2d0ab227",
   "metadata": {},
   "outputs": [
    {
     "data": {
      "text/plain": [
       "label\n",
       "L    3538\n",
       "I    3512\n",
       "G    3419\n",
       "O    3366\n",
       "E    3354\n",
       "F    3354\n",
       "K    3324\n",
       "M    3288\n",
       "A    3246\n",
       "N    3234\n",
       "X    3223\n",
       "U    3211\n",
       "W    3195\n",
       "Q    3194\n",
       "T    3188\n",
       "Y    3158\n",
       "D    3150\n",
       "P    3145\n",
       "C    3140\n",
       "R    3106\n",
       "V    3084\n",
       "H    3065\n",
       "B    2906\n",
       "S    2831\n",
       "Name: count, dtype: int64"
      ]
     },
     "execution_count": 14,
     "metadata": {},
     "output_type": "execute_result"
    }
   ],
   "source": [
    "data_train['label'].value_counts()"
   ]
  },
  {
   "cell_type": "code",
   "execution_count": 15,
   "id": "10e17757-94e8-4c86-bed2-fe0ec4e41f6b",
   "metadata": {},
   "outputs": [],
   "source": [
    "label_to_index = {\n",
    "    'A': 0,\n",
    "    'B': 1,\n",
    "    'C': 2,\n",
    "    'D': 3,\n",
    "    'E': 4,\n",
    "    'F': 5,\n",
    "    'G': 6,\n",
    "    'H': 7,\n",
    "    'I': 8,\n",
    "    'K': 9,\n",
    "    'L': 10,\n",
    "    'M': 11,\n",
    "    'N': 12,\n",
    "    'O': 13,\n",
    "    'P': 14,\n",
    "    'Q': 15,\n",
    "    'R': 16,\n",
    "    'S': 17,\n",
    "    'T': 18,\n",
    "    'U': 19,\n",
    "    'V': 20,\n",
    "    'W': 21,\n",
    "    'X': 22,\n",
    "    'Y': 23\n",
    "}\n",
    "\n",
    "data_train['label'] = data_train['label'].map(label_to_index)\n",
    "data_val['label'] = data_val['label'].map(label_to_index)"
   ]
  },
  {
   "cell_type": "code",
   "execution_count": 17,
   "id": "934554c4-96cf-46fd-92b4-0eb8455a40ae",
   "metadata": {},
   "outputs": [
    {
     "data": {
      "text/html": [
       "<div>\n",
       "<style scoped>\n",
       "    .dataframe tbody tr th:only-of-type {\n",
       "        vertical-align: middle;\n",
       "    }\n",
       "\n",
       "    .dataframe tbody tr th {\n",
       "        vertical-align: top;\n",
       "    }\n",
       "\n",
       "    .dataframe thead th {\n",
       "        text-align: right;\n",
       "    }\n",
       "</style>\n",
       "<table border=\"1\" class=\"dataframe\">\n",
       "  <thead>\n",
       "    <tr style=\"text-align: right;\">\n",
       "      <th></th>\n",
       "      <th>image_path</th>\n",
       "      <th>label</th>\n",
       "    </tr>\n",
       "  </thead>\n",
       "  <tbody>\n",
       "    <tr>\n",
       "      <th>0</th>\n",
       "      <td>padronizado/cecilia_direita_landmarks\\A\\sinal_...</td>\n",
       "      <td>0</td>\n",
       "    </tr>\n",
       "    <tr>\n",
       "      <th>1</th>\n",
       "      <td>padronizado/cecilia_direita_landmarks\\A\\sinal_...</td>\n",
       "      <td>0</td>\n",
       "    </tr>\n",
       "    <tr>\n",
       "      <th>2</th>\n",
       "      <td>padronizado/cecilia_direita_landmarks\\A\\sinal_...</td>\n",
       "      <td>0</td>\n",
       "    </tr>\n",
       "    <tr>\n",
       "      <th>3</th>\n",
       "      <td>padronizado/cecilia_direita_landmarks\\A\\sinal_...</td>\n",
       "      <td>0</td>\n",
       "    </tr>\n",
       "    <tr>\n",
       "      <th>4</th>\n",
       "      <td>padronizado/cecilia_direita_landmarks\\A\\sinal_...</td>\n",
       "      <td>0</td>\n",
       "    </tr>\n",
       "    <tr>\n",
       "      <th>5</th>\n",
       "      <td>padronizado/cecilia_direita_landmarks\\A\\sinal_...</td>\n",
       "      <td>0</td>\n",
       "    </tr>\n",
       "    <tr>\n",
       "      <th>6</th>\n",
       "      <td>padronizado/cecilia_direita_landmarks\\A\\sinal_...</td>\n",
       "      <td>0</td>\n",
       "    </tr>\n",
       "    <tr>\n",
       "      <th>7</th>\n",
       "      <td>padronizado/cecilia_direita_landmarks\\A\\sinal_...</td>\n",
       "      <td>0</td>\n",
       "    </tr>\n",
       "    <tr>\n",
       "      <th>8</th>\n",
       "      <td>padronizado/cecilia_direita_landmarks\\A\\sinal_...</td>\n",
       "      <td>0</td>\n",
       "    </tr>\n",
       "    <tr>\n",
       "      <th>9</th>\n",
       "      <td>padronizado/cecilia_direita_landmarks\\A\\sinal_...</td>\n",
       "      <td>0</td>\n",
       "    </tr>\n",
       "  </tbody>\n",
       "</table>\n",
       "</div>"
      ],
      "text/plain": [
       "                                          image_path  label\n",
       "0  padronizado/cecilia_direita_landmarks\\A\\sinal_...      0\n",
       "1  padronizado/cecilia_direita_landmarks\\A\\sinal_...      0\n",
       "2  padronizado/cecilia_direita_landmarks\\A\\sinal_...      0\n",
       "3  padronizado/cecilia_direita_landmarks\\A\\sinal_...      0\n",
       "4  padronizado/cecilia_direita_landmarks\\A\\sinal_...      0\n",
       "5  padronizado/cecilia_direita_landmarks\\A\\sinal_...      0\n",
       "6  padronizado/cecilia_direita_landmarks\\A\\sinal_...      0\n",
       "7  padronizado/cecilia_direita_landmarks\\A\\sinal_...      0\n",
       "8  padronizado/cecilia_direita_landmarks\\A\\sinal_...      0\n",
       "9  padronizado/cecilia_direita_landmarks\\A\\sinal_...      0"
      ]
     },
     "execution_count": 17,
     "metadata": {},
     "output_type": "execute_result"
    }
   ],
   "source": [
    "data_val.head(10)"
   ]
  },
  {
   "cell_type": "code",
   "execution_count": 18,
   "id": "d77ec677-92c9-4dca-9b21-d29e53248bcd",
   "metadata": {},
   "outputs": [],
   "source": [
    "train_ds = tf.data.Dataset.from_tensor_slices((data_train['image_path'].values, data_train['label'].values))\n",
    "val_ds = tf.data.Dataset.from_tensor_slices((data_val['image_path'].values, data_val['label'].values))"
   ]
  },
  {
   "cell_type": "code",
   "execution_count": 19,
   "id": "325a5f40-6d31-4272-b71d-1c8ab2268fcd",
   "metadata": {},
   "outputs": [],
   "source": [
    "from tensorflow.keras.applications.mobilenet import preprocess_input\n",
    "\n",
    "IMG_SIZE = (224, 224)\n",
    "\n",
    "def process_image(path, label):\n",
    "    image = tf.io.read_file(path)\n",
    "    image = tf.image.decode_jpeg(image, channels=3)\n",
    "    image = tf.image.resize(image, IMG_SIZE)\n",
    "    image = preprocess_input(image)\n",
    "    return image, label"
   ]
  },
  {
   "cell_type": "code",
   "execution_count": 20,
   "id": "ff3415ca-7ad7-4569-93af-5b00c5c830a2",
   "metadata": {},
   "outputs": [],
   "source": [
    "BATCH_SIZE = 32\n",
    "train_ds = train_ds.map(process_image)\n",
    "train_ds = train_ds.shuffle(buffer_size=1000).batch(BATCH_SIZE)\n",
    "val_ds = val_ds.map(process_image)\n",
    "val_ds = val_ds.batch(BATCH_SIZE)"
   ]
  },
  {
   "cell_type": "code",
   "execution_count": 21,
   "id": "15813d4f-68ab-4da7-94ab-4c876c121566",
   "metadata": {},
   "outputs": [
    {
     "name": "stdout",
     "output_type": "stream",
     "text": [
      "Num GPUs Available: 1\n"
     ]
    }
   ],
   "source": [
    "print(\"Num GPUs Available:\", len(tf.config.list_physical_devices('GPU')))"
   ]
  },
  {
   "cell_type": "code",
   "execution_count": 23,
   "id": "a9b060e3-59ce-4367-920f-67a567414f61",
   "metadata": {},
   "outputs": [],
   "source": [
    "from tensorflow.keras.applications import MobileNet\n",
    "from tensorflow.keras import layers, models\n",
    "\n",
    "num_classes = data_train['label'].nunique()\n",
    "\n",
    "base_model = MobileNet(include_top=False, input_shape=(224, 224, 3), weights='imagenet')\n",
    "base_model.trainable = False\n",
    "\n",
    "model = models.Sequential([\n",
    "    base_model,\n",
    "    layers.Flatten(),\n",
    "    layers.Dropout(0.2),\n",
    "    layers.Dense(num_classes, activation='softmax')\n",
    "])\n",
    "\n",
    "model.compile(\n",
    "    optimizer='adam',\n",
    "    loss='sparse_categorical_crossentropy',\n",
    "    metrics=['accuracy']\n",
    ")"
   ]
  },
  {
   "cell_type": "code",
   "execution_count": 24,
   "id": "d894f607-63c8-4496-9e97-7daa0f4602eb",
   "metadata": {},
   "outputs": [
    {
     "name": "stdout",
     "output_type": "stream",
     "text": [
      "Epoch 1/5\n",
      "2414/2414 [==============================] - 253s 97ms/step - loss: 3.2254 - accuracy: 0.9532 - val_loss: 34.0832 - val_accuracy: 0.6650\n",
      "Epoch 2/5\n",
      "2414/2414 [==============================] - 224s 92ms/step - loss: 0.6257 - accuracy: 0.9915 - val_loss: 26.6928 - val_accuracy: 0.6806\n",
      "Epoch 3/5\n",
      "2414/2414 [==============================] - 221s 91ms/step - loss: 0.2593 - accuracy: 0.9949 - val_loss: 27.2060 - val_accuracy: 0.6819\n",
      "Epoch 4/5\n",
      "2414/2414 [==============================] - 211s 87ms/step - loss: 0.2166 - accuracy: 0.9958 - val_loss: 31.9259 - val_accuracy: 0.6873\n",
      "Epoch 5/5\n",
      "2414/2414 [==============================] - 204s 84ms/step - loss: 0.1226 - accuracy: 0.9975 - val_loss: 24.7896 - val_accuracy: 0.7394\n"
     ]
    }
   ],
   "source": [
    "EPOCHS = 5\n",
    "history = model.fit(\n",
    "    train_ds,\n",
    "    validation_data=val_ds,\n",
    "    epochs=EPOCHS\n",
    ")"
   ]
  },
  {
   "cell_type": "code",
   "execution_count": 25,
   "id": "737e2617-0303-405c-9e9a-069a4ae6efe9",
   "metadata": {},
   "outputs": [
    {
     "data": {
      "image/png": "[encoded data removed]",
      "text/plain": [
       "<Figure size 800x500 with 1 Axes>"
      ]
     },
     "metadata": {},
     "output_type": "display_data"
    }
   ],
   "source": [
    "train_loss = history.history['loss']\n",
    "val_loss = history.history['val_loss']\n",
    "epochs = np.arange(EPOCHS)\n",
    "\n",
    "plt.figure(figsize=(8, 5))\n",
    "plt.plot(epochs, train_loss, 'b-', label='Training Loss')\n",
    "plt.plot(epochs, val_loss, 'r-', label='Validation Loss')\n",
    "plt.title('Training vs Validation Loss')\n",
    "plt.xlabel('Epoch')\n",
    "plt.ylabel('Loss')\n",
    "plt.legend()\n",
    "plt.tight_layout()\n",
    "plt.show()"
   ]
  },
  {
   "cell_type": "code",
   "execution_count": 26,
   "id": "332b4949-5d68-4534-a30d-0f8f7e839d97",
   "metadata": {},
   "outputs": [
    {
     "data": {
      "image/png": "[encoded data removed]",
      "text/plain": [
       "<Figure size 800x500 with 1 Axes>"
      ]
     },
     "metadata": {},
     "output_type": "display_data"
    }
   ],
   "source": [
    "train_accuracy = history.history['accuracy']\n",
    "val_accuracy = history.history['val_accuracy']\n",
    "\n",
    "plt.figure(figsize=(8, 5))\n",
    "plt.plot(epochs, train_accuracy, 'b-', label='Training Accuracy')\n",
    "plt.plot(epochs, val_accuracy, 'r-', label='Validation Accuracy')\n",
    "plt.title('Training vs Validation Accuracy')\n",
    "plt.xlabel('Epoch')\n",
    "plt.ylabel('Accuracy')\n",
    "plt.legend()\n",
    "plt.tight_layout()\n",
    "plt.show()"
   ]
  },
  {
   "cell_type": "code",
   "execution_count": null,
   "id": "f8a5cc56-231c-4a7e-affd-ef7779673e9a",
   "metadata": {},
   "outputs": [
    {
     "name": "stdout",
     "output_type": "stream",
     "text": [
      "Found 1331 images belonging to 24 classes.\n",
      "42/42 [==============================] - 2s 37ms/step\n",
      "Per-class Accuracy:\n",
      "\n",
      "   Class  Accuracy\n",
      "0      A  0.019231\n",
      "1      B  1.000000\n",
      "2      C  1.000000\n",
      "3      D  0.338462\n",
      "4      E  0.928571\n",
      "5      F  1.000000\n",
      "6      G  1.000000\n",
      "7      H  1.000000\n",
      "8      I  0.611111\n",
      "9      K  0.928571\n",
      "10     L  0.943396\n",
      "11     M  0.812500\n",
      "12     N  0.000000\n",
      "13     O  0.441860\n",
      "14     P  0.000000\n",
      "15     Q  1.000000\n",
      "16     R  1.000000\n",
      "17     S  0.470588\n",
      "18     T  0.033333\n",
      "19     U  0.980000\n",
      "20     V  0.800000\n",
      "21     W  0.765957\n",
      "22     X  1.000000\n",
      "23     Y  0.919355\n",
      "\n",
      "Total Accuracy: 0.7160\n"
     ]
    }
   ],
   "source": [
    "from tensorflow.keras.preprocessing.image import ImageDataGenerator\n",
    "from tensorflow.keras.applications.mobilenet import preprocess_input\n",
    "from sklearn.metrics import classification_report, confusion_matrix, accuracy_score\n",
    "import numpy as np\n",
    "import pandas as pd\n",
    "\n",
    "# === Parameters ===\n",
    "image_size = (224, 224)  # MobileNet expects 224x224\n",
    "batch_size = 32\n",
    "test_dir = TEST_PATHS[0]\n",
    "\n",
    "# === Data Generator ===\n",
    "test_datagen = ImageDataGenerator(preprocessing_function=preprocess_input)\n",
    "\n",
    "test_generator = test_datagen.flow_from_directory(\n",
    "    test_dir,\n",
    "    target_size=image_size,\n",
    "    batch_size=batch_size,\n",
    "    class_mode='categorical',\n",
    "    shuffle=False\n",
    ")\n",
    "\n",
    "# === Predict ===\n",
    "predictions = model.predict(test_generator, verbose=1)\n",
    "predicted_classes = np.argmax(predictions, axis=1)\n",
    "true_classes = test_generator.classes\n",
    "class_labels = list(test_generator.class_indices.keys())\n",
    "\n",
    "# === Confusion Matrix & Accuracy ===\n",
    "cm = confusion_matrix(true_classes, predicted_classes)\n",
    "per_class_accuracy = cm.diagonal() / cm.sum(axis=1)\n",
    "total_accuracy = accuracy_score(true_classes, predicted_classes)\n",
    "\n",
    "# === Print Results ===\n",
    "df_accuracy = pd.DataFrame({\n",
    "    'Class': class_labels,\n",
    "    'Accuracy': per_class_accuracy\n",
    "})\n",
    "\n",
    "print(\"Per-class Accuracy:\\n\")\n",
    "print(df_accuracy)\n",
    "print(f\"\\nTotal Accuracy: {total_accuracy:.4f}\")\n"
   ]
  },
  {
   "cell_type": "code",
   "execution_count": 33,
   "id": "31bd8aef-c5e0-447b-9bb9-c9178dc42575",
   "metadata": {},
   "outputs": [],
   "source": [
    "model.save('models/mobilenet_padronizado.h5')"
   ]
  },
  {
   "cell_type": "code",
   "execution_count": 32,
   "id": "742f4f0c-f9a7-4283-890d-f6a456dd96ce",
   "metadata": {},
   "outputs": [],
   "source": [
    "model.save(\"mobilenet_converted.keras\", save_format=\"keras_v3\")"
   ]
  },
  {
   "cell_type": "code",
   "execution_count": null,
   "id": "ea5c9192-768c-46a1-bbc2-0a71944274ba",
   "metadata": {},
   "outputs": [],
   "source": []
  }
 ],
 "metadata": {
  "kernelspec": {
   "display_name": "Python 3 (ipykernel)",
   "language": "python",
   "name": "python3"
  },
  "language_info": {
   "codemirror_mode": {
    "name": "ipython",
    "version": 3
   },
   "file_extension": ".py",
   "mimetype": "text/x-python",
   "name": "python",
   "nbconvert_exporter": "python",
   "pygments_lexer": "ipython3",
   "version": "3.9.18"
  }
 },
 "nbformat": 4,
 "nbformat_minor": 5
}
