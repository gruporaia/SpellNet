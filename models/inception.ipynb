{
 "cells": [
  {
   "cell_type": "code",
   "execution_count": 1,
   "id": "337b61cf-f237-45d9-b80a-ea4c667ee778",
   "metadata": {},
   "outputs": [
    {
     "name": "stderr",
     "output_type": "stream",
     "text": [
      "C:\\Users\\User\\anaconda3\\envs\\gpu_env\\lib\\site-packages\\h5py\\__init__.py:36: UserWarning: h5py is running against HDF5 1.14.6 when it was built against 1.14.5, this may cause problems\n",
      "  _warn((\"h5py is running against HDF5 {0} when it was built against {1}, \"\n"
     ]
    }
   ],
   "source": [
    "import tensorflow as tf\n",
    "from tensorflow.keras import layers, models\n",
    "from tensorflow.keras.applications import EfficientNetB0\n",
    "from tensorflow.keras.preprocessing import image_dataset_from_directory\n",
    "import glob\n",
    "import pandas as pd\n",
    "import os\n",
    "import shutil\n",
    "import numpy as np\n",
    "import matplotlib.pyplot as plt"
   ]
  },
  {
   "cell_type": "code",
   "execution_count": 2,
   "id": "ad936ac4-0167-49b3-a33f-8e4a19313439",
   "metadata": {},
   "outputs": [
    {
     "data": {
      "text/html": [
       "<div>\n",
       "<style scoped>\n",
       "    .dataframe tbody tr th:only-of-type {\n",
       "        vertical-align: middle;\n",
       "    }\n",
       "\n",
       "    .dataframe tbody tr th {\n",
       "        vertical-align: top;\n",
       "    }\n",
       "\n",
       "    .dataframe thead th {\n",
       "        text-align: right;\n",
       "    }\n",
       "</style>\n",
       "<table border=\"1\" class=\"dataframe\">\n",
       "  <thead>\n",
       "    <tr style=\"text-align: right;\">\n",
       "      <th></th>\n",
       "      <th>image_path</th>\n",
       "      <th>label</th>\n",
       "    </tr>\n",
       "  </thead>\n",
       "  <tbody>\n",
       "    <tr>\n",
       "      <th>0</th>\n",
       "      <td>asl_filtered\\A\\A1.jpg</td>\n",
       "      <td>A</td>\n",
       "    </tr>\n",
       "    <tr>\n",
       "      <th>1</th>\n",
       "      <td>asl_filtered\\A\\A1002.jpg</td>\n",
       "      <td>A</td>\n",
       "    </tr>\n",
       "    <tr>\n",
       "      <th>2</th>\n",
       "      <td>asl_filtered\\A\\A1007.jpg</td>\n",
       "      <td>A</td>\n",
       "    </tr>\n",
       "    <tr>\n",
       "      <th>3</th>\n",
       "      <td>asl_filtered\\A\\A1011.jpg</td>\n",
       "      <td>A</td>\n",
       "    </tr>\n",
       "    <tr>\n",
       "      <th>4</th>\n",
       "      <td>asl_filtered\\A\\A1016.jpg</td>\n",
       "      <td>A</td>\n",
       "    </tr>\n",
       "    <tr>\n",
       "      <th>...</th>\n",
       "      <td>...</td>\n",
       "      <td>...</td>\n",
       "    </tr>\n",
       "    <tr>\n",
       "      <th>15595</th>\n",
       "      <td>asl_filtered\\Z\\Z977.jpg</td>\n",
       "      <td>Z</td>\n",
       "    </tr>\n",
       "    <tr>\n",
       "      <th>15596</th>\n",
       "      <td>asl_filtered\\Z\\Z981.jpg</td>\n",
       "      <td>Z</td>\n",
       "    </tr>\n",
       "    <tr>\n",
       "      <th>15597</th>\n",
       "      <td>asl_filtered\\Z\\Z986.jpg</td>\n",
       "      <td>Z</td>\n",
       "    </tr>\n",
       "    <tr>\n",
       "      <th>15598</th>\n",
       "      <td>asl_filtered\\Z\\Z990.jpg</td>\n",
       "      <td>Z</td>\n",
       "    </tr>\n",
       "    <tr>\n",
       "      <th>15599</th>\n",
       "      <td>asl_filtered\\Z\\Z995.jpg</td>\n",
       "      <td>Z</td>\n",
       "    </tr>\n",
       "  </tbody>\n",
       "</table>\n",
       "<p>15600 rows × 2 columns</p>\n",
       "</div>"
      ],
      "text/plain": [
       "                     image_path label\n",
       "0         asl_filtered\\A\\A1.jpg     A\n",
       "1      asl_filtered\\A\\A1002.jpg     A\n",
       "2      asl_filtered\\A\\A1007.jpg     A\n",
       "3      asl_filtered\\A\\A1011.jpg     A\n",
       "4      asl_filtered\\A\\A1016.jpg     A\n",
       "...                         ...   ...\n",
       "15595   asl_filtered\\Z\\Z977.jpg     Z\n",
       "15596   asl_filtered\\Z\\Z981.jpg     Z\n",
       "15597   asl_filtered\\Z\\Z986.jpg     Z\n",
       "15598   asl_filtered\\Z\\Z990.jpg     Z\n",
       "15599   asl_filtered\\Z\\Z995.jpg     Z\n",
       "\n",
       "[15600 rows x 2 columns]"
      ]
     },
     "execution_count": 2,
     "metadata": {},
     "output_type": "execute_result"
    }
   ],
   "source": [
    "labels = ['A', 'B', 'C', 'D', 'E', 'F', 'G', 'H', 'I', 'J', 'K', 'L', 'M', 'N', 'O', 'P', 'Q', 'R', 'S', 'T', 'U', 'V', 'W', 'X', 'Y', 'Z']\n",
    "list_path = []\n",
    "list_labels = []\n",
    "TRAIN_PATH = \"asl_filtered\"\n",
    "\n",
    "\n",
    "for label in labels:\n",
    "    label_path = os.path.join(TRAIN_PATH, label, \"*\")\n",
    "    image_files = glob.glob(label_path)\n",
    "    \n",
    "    sign_label = [label] * len(image_files)\n",
    "    \n",
    "    list_path.extend(image_files)\n",
    "    list_labels.extend(sign_label)\n",
    "\n",
    "metadata = pd.DataFrame({\n",
    "    \"image_path\": list_path,\n",
    "    \"label\": list_labels\n",
    "})\n",
    "\n",
    "metadata"
   ]
  },
  {
   "cell_type": "code",
   "execution_count": 3,
   "id": "2ad97841-ae2a-4c7b-9554-39c6bf389a1a",
   "metadata": {},
   "outputs": [],
   "source": [
    "from sklearn.model_selection import train_test_split\n",
    "\n",
    "X_train, X_val, y_train, y_val = train_test_split(\n",
    "    metadata[\"image_path\"], metadata[\"label\"],\n",
    "    test_size=0.3,\n",
    "    random_state=2023,\n",
    "    shuffle=True,\n",
    "    stratify=metadata[\"label\"]\n",
    ")\n",
    "\n",
    "# Create Final DataFrames\n",
    "data_train = pd.DataFrame({\n",
    "    \"image_path\": X_train,\n",
    "    \"label\": y_train\n",
    "})\n",
    "\n",
    "data_val = pd.DataFrame({\n",
    "    \"image_path\": X_val,\n",
    "    \"label\": y_val\n",
    "})"
   ]
  },
  {
   "cell_type": "code",
   "execution_count": 4,
   "id": "10e17757-94e8-4c86-bed2-fe0ec4e41f6b",
   "metadata": {},
   "outputs": [],
   "source": [
    "label_to_index = {chr(ord('A') + i): i for i in range(26)}  # {'A': 0, 'B': 1, ..., 'Z': 25}\n",
    "\n",
    "# Apply to your dataframes\n",
    "data_train['label'] = data_train['label'].map(label_to_index)\n",
    "data_val['label'] = data_val['label'].map(label_to_index)"
   ]
  },
  {
   "cell_type": "code",
   "execution_count": 5,
   "id": "da9c9b39-2b08-43e8-945c-cb4a249bfff7",
   "metadata": {},
   "outputs": [
    {
     "data": {
      "text/html": [
       "<div>\n",
       "<style scoped>\n",
       "    .dataframe tbody tr th:only-of-type {\n",
       "        vertical-align: middle;\n",
       "    }\n",
       "\n",
       "    .dataframe tbody tr th {\n",
       "        vertical-align: top;\n",
       "    }\n",
       "\n",
       "    .dataframe thead th {\n",
       "        text-align: right;\n",
       "    }\n",
       "</style>\n",
       "<table border=\"1\" class=\"dataframe\">\n",
       "  <thead>\n",
       "    <tr style=\"text-align: right;\">\n",
       "      <th></th>\n",
       "      <th>image_path</th>\n",
       "      <th>label</th>\n",
       "    </tr>\n",
       "  </thead>\n",
       "  <tbody>\n",
       "    <tr>\n",
       "      <th>7413</th>\n",
       "      <td>asl_filtered\\M\\M1958.jpg</td>\n",
       "      <td>12</td>\n",
       "    </tr>\n",
       "    <tr>\n",
       "      <th>5892</th>\n",
       "      <td>asl_filtered\\J\\J512.jpg</td>\n",
       "      <td>9</td>\n",
       "    </tr>\n",
       "    <tr>\n",
       "      <th>10184</th>\n",
       "      <td>asl_filtered\\Q\\Q927.jpg</td>\n",
       "      <td>16</td>\n",
       "    </tr>\n",
       "    <tr>\n",
       "      <th>10731</th>\n",
       "      <td>asl_filtered\\R\\R689.jpg</td>\n",
       "      <td>17</td>\n",
       "    </tr>\n",
       "    <tr>\n",
       "      <th>2891</th>\n",
       "      <td>asl_filtered\\E\\E508.jpg</td>\n",
       "      <td>4</td>\n",
       "    </tr>\n",
       "    <tr>\n",
       "      <th>352</th>\n",
       "      <td>asl_filtered\\A\\A2583.jpg</td>\n",
       "      <td>0</td>\n",
       "    </tr>\n",
       "    <tr>\n",
       "      <th>3736</th>\n",
       "      <td>asl_filtered\\G\\G1610.jpg</td>\n",
       "      <td>6</td>\n",
       "    </tr>\n",
       "    <tr>\n",
       "      <th>240</th>\n",
       "      <td>asl_filtered\\A\\A2079.jpg</td>\n",
       "      <td>0</td>\n",
       "    </tr>\n",
       "    <tr>\n",
       "      <th>14908</th>\n",
       "      <td>asl_filtered\\Y\\Y585.jpg</td>\n",
       "      <td>24</td>\n",
       "    </tr>\n",
       "    <tr>\n",
       "      <th>3456</th>\n",
       "      <td>asl_filtered\\F\\F350.jpg</td>\n",
       "      <td>5</td>\n",
       "    </tr>\n",
       "  </tbody>\n",
       "</table>\n",
       "</div>"
      ],
      "text/plain": [
       "                     image_path  label\n",
       "7413   asl_filtered\\M\\M1958.jpg     12\n",
       "5892    asl_filtered\\J\\J512.jpg      9\n",
       "10184   asl_filtered\\Q\\Q927.jpg     16\n",
       "10731   asl_filtered\\R\\R689.jpg     17\n",
       "2891    asl_filtered\\E\\E508.jpg      4\n",
       "352    asl_filtered\\A\\A2583.jpg      0\n",
       "3736   asl_filtered\\G\\G1610.jpg      6\n",
       "240    asl_filtered\\A\\A2079.jpg      0\n",
       "14908   asl_filtered\\Y\\Y585.jpg     24\n",
       "3456    asl_filtered\\F\\F350.jpg      5"
      ]
     },
     "execution_count": 5,
     "metadata": {},
     "output_type": "execute_result"
    }
   ],
   "source": [
    "data_train.head(10)"
   ]
  },
  {
   "cell_type": "code",
   "execution_count": 6,
   "id": "934554c4-96cf-46fd-92b4-0eb8455a40ae",
   "metadata": {},
   "outputs": [
    {
     "data": {
      "text/html": [
       "<div>\n",
       "<style scoped>\n",
       "    .dataframe tbody tr th:only-of-type {\n",
       "        vertical-align: middle;\n",
       "    }\n",
       "\n",
       "    .dataframe tbody tr th {\n",
       "        vertical-align: top;\n",
       "    }\n",
       "\n",
       "    .dataframe thead th {\n",
       "        text-align: right;\n",
       "    }\n",
       "</style>\n",
       "<table border=\"1\" class=\"dataframe\">\n",
       "  <thead>\n",
       "    <tr style=\"text-align: right;\">\n",
       "      <th></th>\n",
       "      <th>image_path</th>\n",
       "      <th>label</th>\n",
       "    </tr>\n",
       "  </thead>\n",
       "  <tbody>\n",
       "    <tr>\n",
       "      <th>6828</th>\n",
       "      <td>asl_filtered\\L\\L2024.jpg</td>\n",
       "      <td>11</td>\n",
       "    </tr>\n",
       "    <tr>\n",
       "      <th>9945</th>\n",
       "      <td>asl_filtered\\Q\\Q2551.jpg</td>\n",
       "      <td>16</td>\n",
       "    </tr>\n",
       "    <tr>\n",
       "      <th>5062</th>\n",
       "      <td>asl_filtered\\I\\I2178.jpg</td>\n",
       "      <td>8</td>\n",
       "    </tr>\n",
       "    <tr>\n",
       "      <th>15162</th>\n",
       "      <td>asl_filtered\\Z\\Z1728.jpg</td>\n",
       "      <td>25</td>\n",
       "    </tr>\n",
       "    <tr>\n",
       "      <th>11623</th>\n",
       "      <td>asl_filtered\\T\\T2001.jpg</td>\n",
       "      <td>19</td>\n",
       "    </tr>\n",
       "    <tr>\n",
       "      <th>8726</th>\n",
       "      <td>asl_filtered\\O\\O2466.jpg</td>\n",
       "      <td>14</td>\n",
       "    </tr>\n",
       "    <tr>\n",
       "      <th>4628</th>\n",
       "      <td>asl_filtered\\H\\H2925.jpg</td>\n",
       "      <td>7</td>\n",
       "    </tr>\n",
       "    <tr>\n",
       "      <th>8551</th>\n",
       "      <td>asl_filtered\\O\\O1679.jpg</td>\n",
       "      <td>14</td>\n",
       "    </tr>\n",
       "    <tr>\n",
       "      <th>4822</th>\n",
       "      <td>asl_filtered\\I\\I1098.jpg</td>\n",
       "      <td>8</td>\n",
       "    </tr>\n",
       "    <tr>\n",
       "      <th>5709</th>\n",
       "      <td>asl_filtered\\J\\J239.jpg</td>\n",
       "      <td>9</td>\n",
       "    </tr>\n",
       "  </tbody>\n",
       "</table>\n",
       "</div>"
      ],
      "text/plain": [
       "                     image_path  label\n",
       "6828   asl_filtered\\L\\L2024.jpg     11\n",
       "9945   asl_filtered\\Q\\Q2551.jpg     16\n",
       "5062   asl_filtered\\I\\I2178.jpg      8\n",
       "15162  asl_filtered\\Z\\Z1728.jpg     25\n",
       "11623  asl_filtered\\T\\T2001.jpg     19\n",
       "8726   asl_filtered\\O\\O2466.jpg     14\n",
       "4628   asl_filtered\\H\\H2925.jpg      7\n",
       "8551   asl_filtered\\O\\O1679.jpg     14\n",
       "4822   asl_filtered\\I\\I1098.jpg      8\n",
       "5709    asl_filtered\\J\\J239.jpg      9"
      ]
     },
     "execution_count": 6,
     "metadata": {},
     "output_type": "execute_result"
    }
   ],
   "source": [
    "data_val.head(10)"
   ]
  },
  {
   "cell_type": "code",
   "execution_count": 7,
   "id": "d77ec677-92c9-4dca-9b21-d29e53248bcd",
   "metadata": {},
   "outputs": [],
   "source": [
    "train_ds = tf.data.Dataset.from_tensor_slices((data_train['image_path'].values, data_train['label'].values))\n",
    "val_ds = tf.data.Dataset.from_tensor_slices((data_val['image_path'].values, data_val['label'].values))"
   ]
  },
  {
   "cell_type": "code",
   "execution_count": 8,
   "id": "325a5f40-6d31-4272-b71d-1c8ab2268fcd",
   "metadata": {},
   "outputs": [],
   "source": [
    "IMG_SIZE = (200, 200)\n",
    "\n",
    "def process_image(path, label):\n",
    "    image = tf.io.read_file(path)\n",
    "    image = tf.image.decode_jpeg(image, channels=3)\n",
    "    image = tf.image.resize(image, IMG_SIZE)\n",
    "    image = image/255.0\n",
    "    return image, label"
   ]
  },
  {
   "cell_type": "code",
   "execution_count": 9,
   "id": "ff3415ca-7ad7-4569-93af-5b00c5c830a2",
   "metadata": {},
   "outputs": [],
   "source": [
    "BATCH_SIZE = 32\n",
    "train_ds = train_ds.map(process_image)\n",
    "train_ds = train_ds.shuffle(buffer_size=1000).batch(BATCH_SIZE)\n",
    "val_ds = val_ds.map(process_image)\n",
    "val_ds = val_ds.batch(BATCH_SIZE)"
   ]
  },
  {
   "cell_type": "code",
   "execution_count": 10,
   "id": "15813d4f-68ab-4da7-94ab-4c876c121566",
   "metadata": {},
   "outputs": [
    {
     "name": "stdout",
     "output_type": "stream",
     "text": [
      "Num GPUs Available: 1\n"
     ]
    }
   ],
   "source": [
    "print(\"Num GPUs Available:\", len(tf.config.list_physical_devices('GPU')))"
   ]
  },
  {
   "cell_type": "code",
   "execution_count": 18,
   "id": "a9b060e3-59ce-4367-920f-67a567414f61",
   "metadata": {},
   "outputs": [],
   "source": [
    "from tensorflow.keras.applications import InceptionV3\n",
    "from tensorflow.keras import layers, models\n",
    "\n",
    "num_classes = data_train['label'].nunique()\n",
    "\n",
    "base_model = InceptionV3(include_top=False, input_shape=(200, 200, 3), weights='imagenet')\n",
    "base_model.trainable = False\n",
    "\n",
    "model = models.Sequential([\n",
    "    base_model,\n",
    "    layers.Flatten(),\n",
    "    layers.Dropout(0.2),\n",
    "    layers.Dense(num_classes, activation='softmax')\n",
    "])\n",
    "\n",
    "model.compile(\n",
    "    optimizer='adam',\n",
    "    loss='sparse_categorical_crossentropy',\n",
    "    metrics=['accuracy']\n",
    ")"
   ]
  },
  {
   "cell_type": "code",
   "execution_count": 19,
   "id": "d894f607-63c8-4496-9e97-7daa0f4602eb",
   "metadata": {},
   "outputs": [
    {
     "name": "stdout",
     "output_type": "stream",
     "text": [
      "Epoch 1/20\n",
      "342/342 [==============================] - 30s 73ms/step - loss: 3.0269 - accuracy: 0.7058 - val_loss: 1.5357 - val_accuracy: 0.8276\n",
      "Epoch 2/20\n",
      "342/342 [==============================] - 24s 69ms/step - loss: 0.9358 - accuracy: 0.8842 - val_loss: 1.1459 - val_accuracy: 0.8788\n",
      "Epoch 3/20\n",
      "342/342 [==============================] - 24s 69ms/step - loss: 0.6560 - accuracy: 0.9222 - val_loss: 1.1197 - val_accuracy: 0.8912\n",
      "Epoch 4/20\n",
      "342/342 [==============================] - 24s 69ms/step - loss: 0.5119 - accuracy: 0.9446 - val_loss: 1.1557 - val_accuracy: 0.9034\n",
      "Epoch 5/20\n",
      "342/342 [==============================] - 24s 69ms/step - loss: 0.5465 - accuracy: 0.9459 - val_loss: 1.2232 - val_accuracy: 0.9073\n",
      "Epoch 6/20\n",
      "342/342 [==============================] - 24s 69ms/step - loss: 0.4788 - accuracy: 0.9538 - val_loss: 1.4079 - val_accuracy: 0.9011\n",
      "Epoch 7/20\n",
      "342/342 [==============================] - 24s 69ms/step - loss: 0.3843 - accuracy: 0.9632 - val_loss: 0.7657 - val_accuracy: 0.9382\n",
      "Epoch 8/20\n",
      "342/342 [==============================] - 24s 69ms/step - loss: 0.2763 - accuracy: 0.9733 - val_loss: 1.1633 - val_accuracy: 0.9265\n",
      "Epoch 9/20\n",
      "342/342 [==============================] - 24s 69ms/step - loss: 0.3471 - accuracy: 0.9698 - val_loss: 1.3558 - val_accuracy: 0.9156\n",
      "Epoch 10/20\n",
      "342/342 [==============================] - 24s 70ms/step - loss: 0.4353 - accuracy: 0.9656 - val_loss: 1.5133 - val_accuracy: 0.9152\n",
      "Epoch 11/20\n",
      "342/342 [==============================] - 24s 70ms/step - loss: 0.3965 - accuracy: 0.9688 - val_loss: 1.1956 - val_accuracy: 0.9265\n",
      "Epoch 12/20\n",
      "342/342 [==============================] - 24s 70ms/step - loss: 0.3557 - accuracy: 0.9729 - val_loss: 1.3408 - val_accuracy: 0.9284\n",
      "Epoch 13/20\n",
      "342/342 [==============================] - 24s 70ms/step - loss: 0.3540 - accuracy: 0.9769 - val_loss: 1.0165 - val_accuracy: 0.9425\n",
      "Epoch 14/20\n",
      "342/342 [==============================] - 24s 70ms/step - loss: 0.2295 - accuracy: 0.9802 - val_loss: 1.8967 - val_accuracy: 0.9165\n",
      "Epoch 15/20\n",
      "342/342 [==============================] - 24s 70ms/step - loss: 0.2939 - accuracy: 0.9799 - val_loss: 1.0104 - val_accuracy: 0.9462\n",
      "Epoch 16/20\n",
      "342/342 [==============================] - 24s 70ms/step - loss: 0.2349 - accuracy: 0.9833 - val_loss: 1.4588 - val_accuracy: 0.9344\n",
      "Epoch 17/20\n",
      "342/342 [==============================] - 24s 70ms/step - loss: 0.3520 - accuracy: 0.9770 - val_loss: 1.9593 - val_accuracy: 0.9229\n",
      "Epoch 18/20\n",
      "342/342 [==============================] - 24s 70ms/step - loss: 0.3393 - accuracy: 0.9818 - val_loss: 1.5046 - val_accuracy: 0.9376\n",
      "Epoch 19/20\n",
      "342/342 [==============================] - 24s 70ms/step - loss: 0.1664 - accuracy: 0.9889 - val_loss: 1.1518 - val_accuracy: 0.9519\n",
      "Epoch 20/20\n",
      "342/342 [==============================] - 24s 70ms/step - loss: 0.2670 - accuracy: 0.9838 - val_loss: 2.1605 - val_accuracy: 0.9216\n"
     ]
    }
   ],
   "source": [
    "history = model.fit(\n",
    "    train_ds,\n",
    "    validation_data=val_ds,\n",
    "    epochs=20\n",
    ")"
   ]
  },
  {
   "cell_type": "code",
   "execution_count": 22,
   "id": "737e2617-0303-405c-9e9a-069a4ae6efe9",
   "metadata": {},
   "outputs": [
    {
     "data": {
      "image/png": "[encoded data removed]",
      "text/plain": [
       "<Figure size 800x500 with 1 Axes>"
      ]
     },
     "metadata": {},
     "output_type": "display_data"
    }
   ],
   "source": [
    "train_loss = history.history['loss']\n",
    "val_loss = history.history['val_loss']\n",
    "epochs = np.arange(20)\n",
    "\n",
    "plt.figure(figsize=(8, 5))\n",
    "plt.plot(epochs, train_loss, 'b-', label='Training Loss')\n",
    "plt.plot(epochs, val_loss, 'r-', label='Validation Loss')\n",
    "plt.title('Training vs Validation Loss')\n",
    "plt.xlabel('Epoch')\n",
    "plt.ylabel('Loss')\n",
    "plt.legend()\n",
    "plt.tight_layout()\n",
    "plt.show()"
   ]
  },
  {
   "cell_type": "code",
   "execution_count": 23,
   "id": "332b4949-5d68-4534-a30d-0f8f7e839d97",
   "metadata": {},
   "outputs": [
    {
     "data": {
      "image/png": "[encoded data removed]",
      "text/plain": [
       "<Figure size 800x500 with 1 Axes>"
      ]
     },
     "metadata": {},
     "output_type": "display_data"
    }
   ],
   "source": [
    "train_accuracy = history.history['accuracy']\n",
    "val_accuracy = history.history['val_accuracy']\n",
    "\n",
    "plt.figure(figsize=(8, 5))\n",
    "plt.plot(epochs, train_accuracy, 'b-', label='Training Accuracy')\n",
    "plt.plot(epochs, val_accuracy, 'r-', label='Validation Accuracy')\n",
    "plt.title('Training vs Validation Accuracy')\n",
    "plt.xlabel('Epoch')\n",
    "plt.ylabel('Accuracy')\n",
    "plt.legend()\n",
    "plt.tight_layout()\n",
    "plt.show()"
   ]
  },
  {
   "cell_type": "code",
   "execution_count": null,
   "id": "8a32495e-7db3-4f63-8357-696afdcfd4ef",
   "metadata": {},
   "outputs": [],
   "source": []
  }
 ],
 "metadata": {
  "kernelspec": {
   "display_name": "Python 3 (ipykernel)",
   "language": "python",
   "name": "python3"
  },
  "language_info": {
   "codemirror_mode": {
    "name": "ipython",
    "version": 3
   },
   "file_extension": ".py",
   "mimetype": "text/x-python",
   "name": "python",
   "nbconvert_exporter": "python",
   "pygments_lexer": "ipython3",
   "version": "3.9.18"
  }
 },
 "nbformat": 4,
 "nbformat_minor": 5
}
