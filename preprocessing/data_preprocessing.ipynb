{
 "cells": [
  {
   "cell_type": "code",
   "execution_count": null,
   "metadata": {
    "colab": {
     "base_uri": "https://localhost:8080/"
    },
    "id": "Ocurf4Uft6A_",
    "outputId": "09225261-d0d9-4df8-9111-c96a56a6ca14"
   },
   "outputs": [],
   "source": [
    "# link do colab: https://colab.research.google.com/drive/1gwOYmPriygEWK9kFpXLeKlvx3gqlSSNe#scrollTo=Ocurf4Uft6A_\n",
    "# link do drive: https://drive.google.com/drive/folders/1pQvHvqWxBh3cbj2HtEeoMqLjEaSgSA09?usp=sharing\n",
    "# !pip install opencv-python-headless\n",
    "# !pip install albumentations\n",
    "# !pip install mediapipe\n",
    "# !pip install rembg\n",
    "# !pip install onnxruntime"
   ]
  },
  {
   "cell_type": "code",
   "execution_count": null,
   "metadata": {
    "id": "9MIbA4lxnBNO"
   },
   "outputs": [],
   "source": [
    "import kagglehub\n",
    "import os\n",
    "import shutil\n",
    "import cv2\n",
    "import matplotlib.pyplot as plt\n",
    "import albumentations as A\n",
    "import numpy as np\n",
    "import random\n",
    "import mediapipe as mp\n",
    "from rembg import remove\n",
    "from google.colab import drive\n"
   ]
  },
  {
   "cell_type": "markdown",
   "metadata": {
    "id": "RERn4et84SJ-"
   },
   "source": [
    "# Leitura de Conjuntos de Dados"
   ]
  },
  {
   "cell_type": "code",
   "execution_count": null,
   "metadata": {
    "colab": {
     "base_uri": "https://localhost:8080/"
    },
    "id": "acy-9CjQj-RQ",
    "outputId": "8ba04575-2954-497b-e4ed-6d6a1766f4b4"
   },
   "outputs": [],
   "source": [
    "## Dataframes disponibilizados no Notion\n",
    "## Baixando datasets do Kaggle de ASL\n",
    "path_ASL1 = kagglehub.dataset_download(\"grassknoted/asl-alphabet\")\n",
    "path_ASL2 = kagglehub.dataset_download(\"debashishsau/aslamerican-sign-language-aplhabet-dataset\")\n",
    "\n",
    "## Baixando datasets do Kaggle de Libras\n",
    "\n",
    "path_libras1 = kagglehub.dataset_download(\"lexset/synthetic-asl-alphabet\")\n",
    "path_libras2 = kagglehub.dataset_download(\"williansoliveira/libras\")"
   ]
  },
  {
   "cell_type": "markdown",
   "metadata": {
    "id": "Fcp31_I74gou"
   },
   "source": [
    "# Preparando paths para Data Augmentation"
   ]
  },
  {
   "cell_type": "code",
   "execution_count": null,
   "metadata": {
    "colab": {
     "base_uri": "https://localhost:8080/"
    },
    "id": "01aDXLqsAa9g",
    "outputId": "177f98bb-0def-4e00-fd35-d0e455627d96"
   },
   "outputs": [],
   "source": [
    "## Entrando nas subpastas corretas para treino, de ASL1\n",
    "path_ASL1 = os.path.join(path_ASL1, os.listdir(path_ASL1)[0])  # Pega a primeira subpasta encontrada\n",
    "path_ASL1 = os.path.join(path_ASL1, os.listdir(path_ASL1)[0])  # Pega a primeira subpasta encontrada\n",
    "print(path_ASL1)"
   ]
  },
  {
   "cell_type": "code",
   "execution_count": null,
   "metadata": {
    "colab": {
     "base_uri": "https://localhost:8080/"
    },
    "id": "bY78bg6P4DYY",
    "outputId": "da6da113-4f12-4ec7-a227-7faa3f6b837c"
   },
   "outputs": [],
   "source": [
    "print(os.listdir(path_ASL1))"
   ]
  },
  {
   "cell_type": "code",
   "execution_count": null,
   "metadata": {
    "colab": {
     "base_uri": "https://localhost:8080/"
    },
    "id": "T6YQ64umlqge",
    "outputId": "add55023-4896-4cd4-85bd-8378a68cd2a3"
   },
   "outputs": [],
   "source": [
    "## Entrando nas subpastas corretas para treino, de ASL2\n",
    "path_ASL2 = os.path.join(path_ASL2, os.listdir(path_ASL2)[0])  # Pega a primeira subpasta encontrada\n",
    "path_ASL2 = os.path.join(path_ASL2, os.listdir(path_ASL2)[0])\n",
    "print(os.listdir(path_ASL2))"
   ]
  },
  {
   "cell_type": "code",
   "execution_count": null,
   "metadata": {
    "colab": {
     "base_uri": "https://localhost:8080/"
    },
    "id": "Y4_hcJbxDZ0F",
    "outputId": "793d07bc-b5ce-4d10-a10d-f77cbb057598"
   },
   "outputs": [],
   "source": [
    "path_libras1 = os.path.join(path_libras1, os.listdir(path_libras1)[0])\n",
    "print(os.listdir(path_libras1))"
   ]
  },
  {
   "cell_type": "code",
   "execution_count": null,
   "metadata": {
    "colab": {
     "base_uri": "https://localhost:8080/"
    },
    "id": "VN0rt9ELDzVW",
    "outputId": "8540a479-0e71-426b-9436-31147d6e8c69"
   },
   "outputs": [],
   "source": [
    "path_libras2 = os.path.join(path_libras2, os.listdir(path_libras2)[0])\n",
    "print(os.listdir(path_libras2))"
   ]
  },
  {
   "cell_type": "markdown",
   "metadata": {
    "id": "2zaY3zdp4nze"
   },
   "source": [
    "# Configuração de Mediapipe Hands para Extração de Landmarks"
   ]
  },
  {
   "cell_type": "code",
   "execution_count": null,
   "metadata": {
    "id": "KNBUgDZL4Zyk"
   },
   "outputs": [],
   "source": [
    "## Medipipe Hands\n",
    "mp_hands = mp.solutions.hands\n",
    "mp_drawing = mp.solutions.drawing_utils ## Visualizando landmarks\n",
    "mp_drawing_styles = mp.solutions.drawing_styles"
   ]
  },
  {
   "cell_type": "markdown",
   "metadata": {
    "id": "jqJf7lsT46hk"
   },
   "source": [
    "# Função para adicionar Ruído Salt and Pepper\n"
   ]
  },
  {
   "cell_type": "code",
   "execution_count": null,
   "metadata": {
    "id": "jzZ-Cwb4xcvh"
   },
   "outputs": [],
   "source": [
    "'''\n",
    "  Função para adicionar ruído salt ou pepper\n",
    "  \"ou\", pois pode-se adicionar um por vez, e se quiser adicionar ambos, é só chamar a função 2 vezes\n",
    "  *salt_or_pepper\n",
    "      Se salt_or_pepper = 255 (pixel branco), adiciona ruído salt\n",
    "      Se salt_or_pepper = 0 (pixel preto), adiciona ruído pepper\n",
    "  *image\n",
    "      imagem a ser aplicada o ruído\n",
    "\n",
    "'''\n",
    "def noise_salt_and_pepper(salt_or_pepper, image):\n",
    "  ## valor de ruído de 0 a 0.5%\n",
    "  prob = np.random.uniform(0.0, 0.005)\n",
    "  output = np.copy(image)\n",
    "  ## prob * image_size calcula a quantidade de pixels que serão alterados\n",
    "  ## np.ceil arrendonda para cima (necessita-se que o valor de pixels seja inteiro)\n",
    "  p_alterados = int(prob * image.size)\n",
    "  ## gera-se coordenadas únicas\n",
    "  coords_x = np.random.randint(0, image.shape[1], p_alterados)\n",
    "  coords_y = np.random.randint(0, image.shape[0], p_alterados)\n",
    "\n",
    "  ## aplica-se o ruído\n",
    "  output[coords_y, coords_x] = salt_or_pepper\n",
    "\n",
    "  return output"
   ]
  },
  {
   "cell_type": "markdown",
   "metadata": {
    "id": "gI-vGBc0Je1u"
   },
   "source": [
    "# Salvando Imagens no Drive"
   ]
  },
  {
   "cell_type": "code",
   "execution_count": null,
   "metadata": {
    "colab": {
     "base_uri": "https://localhost:8080/"
    },
    "id": "LQx-f2jjF7qh",
    "outputId": "63823fcd-67d8-42f3-fed8-3638e0bb2c3f"
   },
   "outputs": [],
   "source": [
    "## Criando Google Drive\n",
    "drive.mount('/content/drive')\n",
    "\n",
    "## Definindo caminho para salvar no Google Drive\n",
    "save_path = \"/content/drive/MyDrive/augmentadas/\"\n",
    "os.makedirs(save_path, exist_ok=True)\n"
   ]
  },
  {
   "cell_type": "markdown",
   "metadata": {
    "id": "IBhnrITv5NTj"
   },
   "source": [
    "# Função para aplicar Data Augmentation"
   ]
  },
  {
   "cell_type": "code",
   "execution_count": null,
   "metadata": {
    "id": "a9jzukXhnUV-"
   },
   "outputs": [],
   "source": [
    "'''\n",
    "  Função para aplicar Data Augmentation\n",
    "  *path\n",
    "      Caminho da pasta que contém imagens\n",
    "'''\n",
    "def data_aug(path, save_path):\n",
    "  for dir_ in os.listdir(path):\n",
    "      ## Pegando-se caminho da pasta da letra. Por exemplo, letra \"A\"\n",
    "      path_atual = os.path.join(path, dir_)\n",
    "      os.makedirs(os.path.join(save_path, dir_), exist_ok=True)\n",
    "\n",
    "      ## Onde será salvo o arquivo\n",
    "      save_dir = os.path.join(save_path, dir_)\n",
    "\n",
    "      ## Pega todas as imagens do diretório atual, ignorando-se arquivos ocultos\n",
    "      img_files = [\n",
    "          f for f in os.listdir(path_atual)\n",
    "          if f.lower().endswith(('.png', '.jpg', '.jpeg')) and not f.startswith('.')\n",
    "      ]\n",
    "\n",
    "      if not img_files:\n",
    "          print(f\"Nenhuma imagem encontrada no diretório: {path_atual}\")\n",
    "          continue  ## Vai para próximo diretório se não houver imagens\n",
    "\n",
    "      ## Seleciona imagem aleatória do conjunto de dados\n",
    "      ## OBS: apenas foi selecionada uma aleatória, e não todas, para facilitar processamento.\n",
    "      ## Quanto tivermos certeza da metodologia e dos sinais parecidos, aplicaremos a todas\n",
    "      img_path = random.choice(img_files)\n",
    "      ## Pega-se path completo da imagem\n",
    "      img_full_path = os.path.join(path, dir_, img_path)\n",
    "\n",
    "      ## Lendo a imagem e verificando se há erro\n",
    "      img = cv2.imread(img_full_path)\n",
    "      if img is None:\n",
    "          print(f\"Erro ao carregar imagem: {img_full_path}\")\n",
    "          continue  ## Vai para próximo diretório se não carregar imagens\n",
    "\n",
    "      ## Converteno-se de BGR (padrão de leitura CV2) para RGB\n",
    "      img_rgb = cv2.cvtColor(img, cv2.COLOR_BGR2RGB)\n",
    "\n",
    "      ## Aplicação das Transformações\n",
    "      ## Utilização de Biblioteca \"albumentations\"\n",
    "      transform = A.Compose([\n",
    "        A.ColorJitter(brightness=0.4, contrast=0, saturation=0, hue=0, p=0.5),  ## Ajusta brilho\n",
    "        A.ColorJitter(brightness=0, contrast=0.4, saturation=0, hue=0, p=0.5),  ## Ajusta contraste\n",
    "        A.ColorJitter(brightness=0, contrast=0, saturation=0.4, hue=0, p=0.5),  ## Ajusta cor\n",
    "        A.HorizontalFlip(p=0.5),  ## Flip horizontal\n",
    "        A.Rotate(limit=10, p=0.5),  ## Rotação aleatória de ±10°\n",
    "      ])\n",
    "\n",
    "      ## Criando grid\n",
    "      fig, axes = plt.subplots(2, 6, figsize=(18, 6))\n",
    "\n",
    "      ## Exibindo imagem original\n",
    "      axes[0, 0].imshow(img_rgb)\n",
    "      axes[0, 0].axis(\"off\")\n",
    "      axes[0, 0].set_title(\"Original\")\n",
    "\n",
    "      ## Aplicando as transformações 10 vezes, para exemplificar\n",
    "      for i in range(11):\n",
    "          augmented = transform(image=img_rgb)[\"image\"]\n",
    "\n",
    "          ## Definindo opções de ruído Salt/Pepper\n",
    "          noise_options = {\n",
    "            \"both\": [255, 0],\n",
    "            \"salt\": [255],\n",
    "            \"pepper\": [0],\n",
    "            \"none\": []\n",
    "          }\n",
    "          ## Esse código ou vai aplicar ambos os ruídos, nenhum ou 1 dos 2\n",
    "          for value in noise_options[np.random.choice(list(noise_options))]:\n",
    "            augmented = noise_salt_and_pepper(value, augmented)\n",
    "\n",
    "            ## Converte imagem para BGR\n",
    "            augmented_bgr = cv2.cvtColor(augmented, cv2.COLOR_RGB2BGR)\n",
    "\n",
    "            ## Pega nome da imagem e extensão\n",
    "            base_name, ext = os.path.splitext(img_path)\n",
    "            aug_img_path = os.path.join(save_dir, f\"{base_name}_aug_{i}{ext}\")\n",
    "\n",
    "            ## Salva imagem\n",
    "            cv2.imwrite(aug_img_path, augmented_bgr)\n",
    "          ## Organizando em Grid 2 por 6\n",
    "          ax = axes[(i + 1) // 6, (i + 1) % 6]\n",
    "          ax.imshow(augmented)\n",
    "          ax.axis(\"off\")\n",
    "          ax.set_title(f\"Variação {i+1}\")\n",
    "\n"
   ]
  },
  {
   "cell_type": "code",
   "execution_count": null,
   "metadata": {
    "colab": {
     "base_uri": "https://localhost:8080/",
     "height": 1000
    },
    "id": "bZCoREA32fuv",
    "outputId": "cd0fd4d7-13b2-4619-f4ca-2a3d38ee6c07"
   },
   "outputs": [],
   "source": [
    "data_aug(path_ASL2, save_path)"
   ]
  },
  {
   "cell_type": "code",
   "execution_count": null,
   "metadata": {
    "id": "jH_SuQXiz8rb"
   },
   "outputs": [],
   "source": [
    "'''\n",
    "  Função para aplicar Apagamento de Background\n",
    "  Semelhante à anterior, só que feita para apresentar imagens originais e sem fundo\n",
    "  *path\n",
    "      Caminho da pasta que contém imagens\n",
    "'''\n",
    "def mudanca_fundo_testes(path):\n",
    "  for dir_ in os.listdir(path):\n",
    "      path_atual = os.path.join(path, dir_)\n",
    "      img_files = [\n",
    "          f for f in os.listdir(path_atual)\n",
    "          if f.lower().endswith(('.png', '.jpg', '.jpeg')) and not f.startswith('.')\n",
    "      ]\n",
    "\n",
    "      if not img_files:\n",
    "          print(f\"Nenhuma imagem encontrada no diretório: {path_atual}\")\n",
    "          continue\n",
    "\n",
    "      img_path = random.choice(img_files)\n",
    "      img_full_path = os.path.join(path, dir_, img_path)\n",
    "      img = cv2.imread(img_full_path)\n",
    "\n",
    "      if img is None:\n",
    "          print(f\"Erro ao carregar imagem: {img_full_path}\")\n",
    "          continue\n",
    "      img_rgb = cv2.cvtColor(img, cv2.COLOR_BGR2RGB)\n",
    "      fig, axes = plt.subplots(1, 2, figsize=(18, 6))\n",
    "\n",
    "      img_sem_bg = remove(img)\n",
    "      ## Imagem Original\n",
    "      axes[0].imshow(img_rgb)\n",
    "      axes[0].axis(\"off\")\n",
    "      axes[0].set_title(\"Original\")\n",
    "\n",
    "      ## Imagem sem Fundo\n",
    "      axes[1].imshow(img_sem_bg)\n",
    "      axes[1].axis(\"off\")\n",
    "      axes[1].set_title(\"Sem Fundo\")\n",
    "\n"
   ]
  },
  {
   "cell_type": "code",
   "execution_count": null,
   "metadata": {
    "colab": {
     "base_uri": "https://localhost:8080/",
     "height": 1000
    },
    "id": "rasUquKQ_kue",
    "outputId": "756cda78-dd69-47f7-9a37-6937ba889262"
   },
   "outputs": [],
   "source": [
    "mudanca_fundo_testes(path_ASL2)"
   ]
  },
  {
   "cell_type": "markdown",
   "metadata": {
    "id": "wkaYpefhxjC6"
   },
   "source": []
  },
  {
   "cell_type": "code",
   "execution_count": null,
   "metadata": {
    "id": "Ae5Oib3Wp_bi"
   },
   "outputs": [],
   "source": []
  }
 ],
 "metadata": {
  "accelerator": "TPU",
  "colab": {
   "gpuType": "V28",
   "provenance": [],
   "toc_visible": true
  },
  "kernelspec": {
   "display_name": "Python 3 (ipykernel)",
   "language": "python",
   "name": "python3"
  },
  "language_info": {
   "codemirror_mode": {
    "name": "ipython",
    "version": 3
   },
   "file_extension": ".py",
   "mimetype": "text/x-python",
   "name": "python",
   "nbconvert_exporter": "python",
   "pygments_lexer": "ipython3",
   "version": "3.11.5"
  }
 },
 "nbformat": 4,
 "nbformat_minor": 4
}
